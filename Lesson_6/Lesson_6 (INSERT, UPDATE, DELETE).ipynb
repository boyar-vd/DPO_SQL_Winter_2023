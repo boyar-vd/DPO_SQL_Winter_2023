{
 "cells": [
  {
   "cell_type": "markdown",
   "id": "0906902e",
   "metadata": {},
   "source": [
    "**I. Insert, Update, Delete в psycopg2**"
   ]
  },
  {
   "cell_type": "code",
   "execution_count": null,
   "id": "bcfa96b3",
   "metadata": {},
   "outputs": [],
   "source": [
    "# !pip install psycopg2-binary"
   ]
  },
  {
   "cell_type": "markdown",
   "id": "6b9c456b",
   "metadata": {},
   "source": [
    "*Импортируем библиотеку psycopg2*"
   ]
  },
  {
   "cell_type": "code",
   "execution_count": null,
   "id": "a84095d5",
   "metadata": {},
   "outputs": [],
   "source": [
    "import psycopg2"
   ]
  },
  {
   "cell_type": "markdown",
   "id": "6f9271e4",
   "metadata": {},
   "source": [
    "*Создаём подключение к БД*"
   ]
  },
  {
   "cell_type": "code",
   "execution_count": null,
   "id": "aa547a0d",
   "metadata": {},
   "outputs": [],
   "source": [
    "conn = psycopg2.connect(host=\"rc1b-7ng6ih3jte3824x8.mdb.yandexcloud.net\", \n",
    "                        port=6432,\n",
    "                        database=\"demo\", \n",
    "                        user=\"student\",\n",
    "                        password=\"student!\"\n",
    "                       )"
   ]
  },
  {
   "cell_type": "markdown",
   "id": "89baa6d5",
   "metadata": {},
   "source": [
    "*1) Последовательная вставка данных. Добавим оценки новых учеников.*"
   ]
  },
  {
   "cell_type": "markdown",
   "id": "a6da830c",
   "metadata": {},
   "source": [
    "Сгенерируем данные для 4 новых учеников: Костя, Лена, Настя, Женя"
   ]
  },
  {
   "cell_type": "code",
   "execution_count": null,
   "id": "621b4cb3",
   "metadata": {},
   "outputs": [],
   "source": [
    "new_students = ['Костя', 'Лена', 'Настя', 'Женя']"
   ]
  },
  {
   "cell_type": "markdown",
   "id": "fb2f2ef9",
   "metadata": {},
   "source": [
    "Напишем функцию для генерации случайных оценок"
   ]
  },
  {
   "cell_type": "code",
   "execution_count": null,
   "id": "a8b99993",
   "metadata": {},
   "outputs": [],
   "source": [
    "import random\n",
    "\n",
    "def get_random_grade() -> int:\n",
    "    \"\"\"\n",
    "    Function to generate random integers from 1 to 10\n",
    "    \n",
    "    return: integer from 1 to 10\n",
    "    \"\"\"\n",
    "    \n",
    "    grade = random.randint(1, 10)\n",
    "    return grade"
   ]
  },
  {
   "cell_type": "markdown",
   "id": "92e882ff",
   "metadata": {},
   "source": [
    "Проверим нашу функцию"
   ]
  },
  {
   "cell_type": "code",
   "execution_count": null,
   "id": "b2ff57dd",
   "metadata": {},
   "outputs": [],
   "source": [
    "get_random_grade()"
   ]
  },
  {
   "cell_type": "markdown",
   "id": "b7cc67fe",
   "metadata": {},
   "source": [
    "Напишем функцию генерации sql запроса на вставку данных"
   ]
  },
  {
   "cell_type": "code",
   "execution_count": null,
   "id": "9f6fd64b",
   "metadata": {},
   "outputs": [],
   "source": [
    "def create_insert_sql(...) -> str:\n",
    "    \"\"\"\n",
    "    Function to generate insert sql query\n",
    "    \n",
    "    return: insert sql query\n",
    "    \"\"\"\n",
    "    \n",
    "    sql = f'''\n",
    "    INSERT INTO \n",
    "    ()\n",
    "    VALUES\n",
    "    ()\n",
    "    ;\n",
    "    '''\n",
    "\n",
    "    return sql"
   ]
  },
  {
   "cell_type": "markdown",
   "id": "c0dfcbf2",
   "metadata": {},
   "source": [
    "Запустим генерацию оценок для новых учеников в цикле "
   ]
  },
  {
   "cell_type": "code",
   "execution_count": null,
   "id": "a60940e4",
   "metadata": {},
   "outputs": [],
   "source": [
    "with conn:\n",
    "    with conn.cursor() as cur:\n",
    "        for value in ...:\n",
    "            cur.execute(sql)"
   ]
  },
  {
   "cell_type": "markdown",
   "id": "2a553c9d",
   "metadata": {},
   "source": [
    "*2) Обновление данных об оценках учеников.*"
   ]
  },
  {
   "cell_type": "markdown",
   "id": "fa63ca36",
   "metadata": {},
   "source": [
    "Обновим данные \"старых\" учеников (Маша и Петя):\n",
    "- проставим в поле source значение \"электронный журнал\"\n",
    "- проставим в поле updated_at значения из grade_dt"
   ]
  },
  {
   "cell_type": "code",
   "execution_count": null,
   "id": "bb27104a",
   "metadata": {},
   "outputs": [],
   "source": [
    "sql = f'''\n",
    "UPDATE\n",
    "   SET ... = {}\n",
    " WHERE ...\n",
    "'''"
   ]
  },
  {
   "cell_type": "code",
   "execution_count": null,
   "id": "10a02159",
   "metadata": {},
   "outputs": [],
   "source": [
    "with conn:\n",
    "    with conn.cursor() as cur: \n",
    "        for value in ...:\n",
    "            cur.execute(sql)"
   ]
  },
  {
   "cell_type": "markdown",
   "id": "7f227f30",
   "metadata": {},
   "source": [
    "*Удаление неактуальных оценок.*"
   ]
  },
  {
   "cell_type": "markdown",
   "id": "a932aac1",
   "metadata": {},
   "source": [
    "Удалим все строки для новых учеников"
   ]
  },
  {
   "cell_type": "code",
   "execution_count": null,
   "id": "b9d3a4ee",
   "metadata": {},
   "outputs": [],
   "source": [
    "sql = f'''\n",
    "DELETE FROM ...\n",
    " WHERE ... \n",
    "'''"
   ]
  },
  {
   "cell_type": "code",
   "execution_count": null,
   "id": "4c550c79",
   "metadata": {},
   "outputs": [],
   "source": [
    "with conn:\n",
    "    with conn.cursor() as cur:      \n",
    "        for value in ...:\n",
    "            cur.execute(sql)"
   ]
  },
  {
   "cell_type": "markdown",
   "id": "139986a8",
   "metadata": {},
   "source": [
    "**II. Insert, Update, Delete в SQLAlchemy**"
   ]
  },
  {
   "cell_type": "code",
   "execution_count": null,
   "id": "a8628d18",
   "metadata": {},
   "outputs": [],
   "source": [
    "# !pip uninstall sqlalchemy"
   ]
  },
  {
   "cell_type": "code",
   "execution_count": null,
   "id": "62a6387d",
   "metadata": {},
   "outputs": [],
   "source": [
    "# !pip install sqlalchemy=='1.4.51'"
   ]
  },
  {
   "cell_type": "code",
   "execution_count": null,
   "id": "6ba9a4e0",
   "metadata": {},
   "outputs": [],
   "source": [
    "import sqlalchemy\n",
    "sqlalchemy.__version__"
   ]
  },
  {
   "cell_type": "code",
   "execution_count": null,
   "id": "d5492473",
   "metadata": {},
   "outputs": [],
   "source": [
    "from sqlalchemy import create_engine"
   ]
  },
  {
   "cell_type": "code",
   "execution_count": null,
   "id": "d3459214",
   "metadata": {},
   "outputs": [],
   "source": [
    "def connection_yandex_cloud_demo(echo):\n",
    "    \"\"\"Connection to DataBase dwh\"\"\"\n",
    "    login = 'student'\n",
    "    password = 'student!'\n",
    "    host = 'rc1b-7ng6ih3jte3824x8.mdb.yandexcloud.net'\n",
    "    port = '6432'\n",
    "    db_name = 'demo'\n",
    "    return create_engine(f'postgresql://{login}:{password}@{host}:{port}/{db_name}', echo=echo)"
   ]
  },
  {
   "cell_type": "code",
   "execution_count": null,
   "id": "5993a88f",
   "metadata": {},
   "outputs": [],
   "source": [
    "engine = connection_yandex_cloud_demo(echo=True)"
   ]
  },
  {
   "cell_type": "code",
   "execution_count": null,
   "id": "5fd44986",
   "metadata": {},
   "outputs": [],
   "source": [
    "from sqlalchemy.schema import MetaData\n",
    "\n",
    "metadata_demo_db = MetaData(schema='public')\n",
    "metadata_demo_db.reflect(bind=engine);"
   ]
  },
  {
   "cell_type": "markdown",
   "id": "ba37c79a",
   "metadata": {},
   "source": [
    "Загружаем данные о таблицах"
   ]
  },
  {
   "cell_type": "code",
   "execution_count": null,
   "id": "7f68c5c8",
   "metadata": {},
   "outputs": [],
   "source": [
    "for table_name in metadata_demo_db.tables:\n",
    "    print(table_name)"
   ]
  },
  {
   "cell_type": "code",
   "execution_count": null,
   "id": "7215f247",
   "metadata": {},
   "outputs": [],
   "source": [
    "from sqlalchemy import Table\n",
    "\n",
    "student_grades = Table('student_grades', metadata_demo_db, autoload=True)"
   ]
  },
  {
   "cell_type": "markdown",
   "id": "e6722237",
   "metadata": {},
   "source": [
    "Вставка значений INSERT"
   ]
  },
  {
   "cell_type": "code",
   "execution_count": null,
   "id": "c420d2fc",
   "metadata": {},
   "outputs": [],
   "source": [
    "from sqlalchemy import insert\n",
    "\n",
    "ins = student_grades.insert().values(\n",
    "    name = 'test_name',\n",
    "    subject = 'test_subject'\n",
    ")"
   ]
  },
  {
   "cell_type": "code",
   "execution_count": null,
   "id": "b0d88f30",
   "metadata": {},
   "outputs": [],
   "source": [
    "print(ins)"
   ]
  },
  {
   "cell_type": "code",
   "execution_count": null,
   "id": "5ab52e96",
   "metadata": {},
   "outputs": [],
   "source": [
    "ins.compile().params"
   ]
  },
  {
   "cell_type": "code",
   "execution_count": null,
   "id": "2016c50b",
   "metadata": {},
   "outputs": [],
   "source": [
    "engine.execute(ins)"
   ]
  },
  {
   "cell_type": "markdown",
   "id": "1da3d928",
   "metadata": {},
   "source": [
    "Вставка нескольких записей"
   ]
  },
  {
   "cell_type": "code",
   "execution_count": null,
   "id": "c4570d04",
   "metadata": {},
   "outputs": [],
   "source": [
    "engine.execute(insert(student_grades), [\n",
    "        {\n",
    "            \"name\": \"-1\", \n",
    "            \"subject\": \"subject_1\"\n",
    "        },\n",
    "        {\n",
    "            \"name\": \"-2\", \n",
    "            \"subject\": \"subject_2\"\n",
    "        },\n",
    "        {\n",
    "            \"name\": \"-3\", \n",
    "            \"subject\": \"subject_3\"\n",
    "        },\n",
    "    ])"
   ]
  },
  {
   "cell_type": "code",
   "execution_count": null,
   "id": "e44b867c",
   "metadata": {},
   "outputs": [],
   "source": [
    "engine.execute(f'''\n",
    "INSERT INTO public.student_grades\n",
    "(\"name\", \"subject\")\n",
    "VALUES\n",
    "(-1, 'subject_1'),\n",
    "(-2, 'subject_2'),\n",
    "(-3, 'subject_3')\n",
    ";\n",
    "''')"
   ]
  },
  {
   "cell_type": "markdown",
   "id": "be9684b4",
   "metadata": {},
   "source": [
    "Обновление записей UPDATE"
   ]
  },
  {
   "cell_type": "code",
   "execution_count": null,
   "id": "d273358e",
   "metadata": {},
   "outputs": [],
   "source": [
    "from sqlalchemy import update\n",
    "\n",
    "sql_query = update(student_grades).where(\n",
    "    student_grades.c.id_student == 1\n",
    ").values(\n",
    "    grade = 7\n",
    ")\n",
    "\n",
    "print(sql_query)"
   ]
  },
  {
   "cell_type": "code",
   "execution_count": null,
   "id": "a7ec6630",
   "metadata": {},
   "outputs": [],
   "source": [
    "engine.execute(sql_query)"
   ]
  },
  {
   "cell_type": "markdown",
   "id": "c8f24b5d",
   "metadata": {},
   "source": [
    "Удаление записей DELETE"
   ]
  },
  {
   "cell_type": "code",
   "execution_count": null,
   "id": "4b08b019",
   "metadata": {},
   "outputs": [],
   "source": [
    "from sqlalchemy import delete\n",
    "\n",
    "sql_query = delete(student_grades).where(\n",
    "    student_grades.c.id_student == ???\n",
    ")\n",
    "\n",
    "print(sql_query)"
   ]
  },
  {
   "cell_type": "code",
   "execution_count": null,
   "id": "8ea82026",
   "metadata": {},
   "outputs": [],
   "source": [
    "engine_demo.execute(sql_query)"
   ]
  },
  {
   "cell_type": "markdown",
   "id": "9d44df8f",
   "metadata": {},
   "source": [
    "**III. Insert в Pandas**"
   ]
  },
  {
   "cell_type": "markdown",
   "id": "6c620e3d",
   "metadata": {},
   "source": [
    "*Импортируем библиотеки*"
   ]
  },
  {
   "cell_type": "code",
   "execution_count": null,
   "id": "26888741",
   "metadata": {},
   "outputs": [],
   "source": [
    "import pandas as pd\n",
    "pd.set_option('display.max_columns', None)\n",
    "\n",
    "import warnings\n",
    "warnings.filterwarnings('ignore')"
   ]
  },
  {
   "cell_type": "markdown",
   "id": "bdd453d6",
   "metadata": {},
   "source": [
    "*Загрузим данные в БД*"
   ]
  },
  {
   "cell_type": "code",
   "execution_count": null,
   "id": "f50d463c",
   "metadata": {},
   "outputs": [],
   "source": [
    "d = {'name': ['Гриша', 'Слава'], \n",
    "     'grade': [1, 4]\n",
    "    }\n",
    "df = pd.DataFrame(data=d)\n",
    "df"
   ]
  },
  {
   "cell_type": "code",
   "execution_count": null,
   "id": "8a484160",
   "metadata": {},
   "outputs": [],
   "source": [
    "df.to_sql(name='student_grades'\n",
    "         ,con=engine\n",
    "         ,schema='public'\n",
    "         ,if_exists='append'\n",
    "         ,index=False)"
   ]
  }
 ],
 "metadata": {
  "kernelspec": {
   "display_name": "Python 3 (ipykernel)",
   "language": "python",
   "name": "python3"
  },
  "language_info": {
   "codemirror_mode": {
    "name": "ipython",
    "version": 3
   },
   "file_extension": ".py",
   "mimetype": "text/x-python",
   "name": "python",
   "nbconvert_exporter": "python",
   "pygments_lexer": "ipython3",
   "version": "3.9.13"
  }
 },
 "nbformat": 4,
 "nbformat_minor": 5
}
