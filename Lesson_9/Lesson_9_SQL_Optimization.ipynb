{
 "cells": [
  {
   "cell_type": "code",
   "execution_count": null,
   "id": "f56b47b5",
   "metadata": {},
   "outputs": [],
   "source": [
    "from sqlalchemy import create_engine, text"
   ]
  },
  {
   "cell_type": "code",
   "execution_count": null,
   "id": "cbeba413",
   "metadata": {},
   "outputs": [],
   "source": [
    "def connection_yandex_cloud_demo(echo):\n",
    "    \"\"\"Connection to DataBase demo\"\"\"\n",
    "    login = 'student'\n",
    "    password = 'student!'\n",
    "    host = 'rc1b-7ng6ih3jte3824x8.mdb.yandexcloud.net'\n",
    "    port = '6432'\n",
    "    db_name = 'demo'\n",
    "    return create_engine(f'postgresql://{login}:{password}@{host}:{port}/{db_name}', echo=echo)"
   ]
  },
  {
   "cell_type": "code",
   "execution_count": null,
   "id": "75809c82",
   "metadata": {},
   "outputs": [],
   "source": [
    "engine = connection_yandex_cloud_demo(echo=True)"
   ]
  },
  {
   "cell_type": "markdown",
   "id": "1e4c7bb5",
   "metadata": {},
   "source": [
    "**! Просьба в ячейке ниже указать наименование вашей схемы, чтобы выполняемые запросы не пересекались между собой**"
   ]
  },
  {
   "cell_type": "code",
   "execution_count": null,
   "id": "b40d3543",
   "metadata": {},
   "outputs": [],
   "source": [
    "SCHEMA_NAME = 'public'"
   ]
  },
  {
   "cell_type": "markdown",
   "id": "b07f75d6",
   "metadata": {},
   "source": [
    "### Оптимизация с помощью индекса"
   ]
  },
  {
   "cell_type": "markdown",
   "id": "326032fc",
   "metadata": {},
   "source": [
    "**Создадим таблицу для экспериментов и заполним её данными**"
   ]
  },
  {
   "cell_type": "code",
   "execution_count": null,
   "id": "5d5a5112",
   "metadata": {},
   "outputs": [],
   "source": [
    "sql = f'''\n",
    "DROP TABLE IF EXISTS {SCHEMA_NAME}.ticket_flights_copy;\n",
    "\n",
    "CREATE TABLE {SCHEMA_NAME}.ticket_flights_copy\n",
    " (LIKE bookings.ticket_flights);\n",
    " \n",
    "INSERT INTO {SCHEMA_NAME}.ticket_flights_copy\n",
    "SELECT * FROM bookings.ticket_flights\n",
    "'''\n",
    "\n",
    "engine.execute(sql)"
   ]
  },
  {
   "cell_type": "markdown",
   "id": "a76eb505",
   "metadata": {},
   "source": [
    "**Посмотрим кол-во записей в созданной таблице**"
   ]
  },
  {
   "cell_type": "code",
   "execution_count": null,
   "id": "73996b12",
   "metadata": {},
   "outputs": [],
   "source": [
    "sql = f'''\n",
    " SELECT count(*)\n",
    "   FROM {SCHEMA_NAME}.ticket_flights_copy\n",
    "'''\n",
    "\n",
    "engine.execute(sql).fetchall()[0][0]"
   ]
  },
  {
   "cell_type": "markdown",
   "id": "3553434b",
   "metadata": {},
   "source": [
    "**Сделаем запрос на поиск данных по перелету с идентификатором 130525**"
   ]
  },
  {
   "cell_type": "code",
   "execution_count": null,
   "id": "070e747b",
   "metadata": {},
   "outputs": [],
   "source": [
    "sql = f'''\n",
    "EXPLAIN ANALYZE\n",
    " SELECT * \n",
    "   FROM {SCHEMA_NAME}.ticket_flights_copy tfc\n",
    "  WHERE tfc.flight_id = 130525\n",
    "'''\n",
    "\n",
    "engine.execute(text(sql)).fetchall()"
   ]
  },
  {
   "cell_type": "markdown",
   "id": "44b5959a",
   "metadata": {},
   "source": [
    "**Попробуем использовать нечеткий поиск, посмотрим как изменлось время выполнения запроса**"
   ]
  },
  {
   "cell_type": "code",
   "execution_count": null,
   "id": "7f602e91",
   "metadata": {},
   "outputs": [],
   "source": [
    "sql = f'''\n",
    "EXPLAIN ANALYZE \n",
    " SELECT * \n",
    "   FROM {SCHEMA_NAME}.ticket_flights_copy tfc\n",
    "  WHERE tfc.flight_id::text like '%130525%'\n",
    "'''\n",
    "\n",
    "engine.execute(text(sql)).fetchall()"
   ]
  },
  {
   "cell_type": "markdown",
   "id": "1b9ed638",
   "metadata": {},
   "source": [
    "**Создадим индекс на поле bookings.ticket_flights_copy.flight_id**"
   ]
  },
  {
   "cell_type": "code",
   "execution_count": null,
   "id": "8da94a65",
   "metadata": {},
   "outputs": [],
   "source": [
    "sql = f'''\n",
    "DROP INDEX IF EXISTS ticket_flights_copy_flight_id_index;\n",
    "\n",
    "CREATE INDEX ticket_flights_copy_flight_id_index \n",
    "          ON {SCHEMA_NAME}.ticket_flights_copy (flight_id);\n",
    "'''\n",
    "\n",
    "engine.execute(sql)"
   ]
  },
  {
   "cell_type": "markdown",
   "id": "5929a3b9",
   "metadata": {},
   "source": [
    "**Выполним запросы после создания индекса, сравним время выполнения с предыдущими результатом**"
   ]
  },
  {
   "cell_type": "code",
   "execution_count": null,
   "id": "178eec95",
   "metadata": {},
   "outputs": [],
   "source": [
    "sql = f'''\n",
    "EXPLAIN ANALYZE\n",
    " SELECT * \n",
    "   FROM {SCHEMA_NAME}.ticket_flights_copy tfc\n",
    "  WHERE tfc.flight_id = 130525\n",
    "'''\n",
    "\n",
    "engine.execute(text(sql)).fetchall()"
   ]
  },
  {
   "cell_type": "code",
   "execution_count": null,
   "id": "99a7d92d",
   "metadata": {},
   "outputs": [],
   "source": [
    "sql = f'''\n",
    "EXPLAIN ANALYZE \n",
    " SELECT * \n",
    "   FROM {SCHEMA_NAME}.ticket_flights_copy tfc\n",
    "  WHERE tfc.flight_id::text like '%130525%'\n",
    "'''\n",
    "\n",
    "engine.execute(text(sql)).fetchall()"
   ]
  },
  {
   "cell_type": "markdown",
   "id": "61eb8623",
   "metadata": {},
   "source": [
    "**Создадим копию таблицы flights и выполним запрос с фильтрацией по двум атрибутам**"
   ]
  },
  {
   "cell_type": "code",
   "execution_count": null,
   "id": "3ab4c935",
   "metadata": {},
   "outputs": [],
   "source": [
    "sql = f'''\n",
    "DROP TABLE IF EXISTS {SCHEMA_NAME}.flights_copy;\n",
    "\n",
    "CREATE TABLE {SCHEMA_NAME}.flights_copy\n",
    " (LIKE bookings.flights);\n",
    " \n",
    "INSERT INTO {SCHEMA_NAME}.flights_copy\n",
    "SELECT * FROM bookings.flights\n",
    "'''\n",
    "\n",
    "engine.execute(sql)"
   ]
  },
  {
   "cell_type": "code",
   "execution_count": null,
   "id": "7f28fd15",
   "metadata": {},
   "outputs": [],
   "source": [
    "sql = f'''\n",
    "EXPLAIN ANALYZE\n",
    " SELECT * \n",
    "   FROM {SCHEMA_NAME}.flights_copy fc\n",
    "  WHERE fc.departure_airport = 'DME'\n",
    "    AND fc.arrival_airport = 'LED'\n",
    "'''\n",
    "\n",
    "engine.execute(sql).fetchall()"
   ]
  },
  {
   "cell_type": "markdown",
   "id": "5e125e1b",
   "metadata": {},
   "source": [
    "**Создадим составной индекс**"
   ]
  },
  {
   "cell_type": "code",
   "execution_count": null,
   "id": "859e2c34",
   "metadata": {},
   "outputs": [],
   "source": [
    "sql = f'''\n",
    "DROP INDEX IF EXISTS flights_copy_airports_index;\n",
    "\n",
    "CREATE INDEX flights_copy_airports_index \n",
    "          ON {SCHEMA_NAME}.flights_copy (departure_airport, arrival_airport);\n",
    "'''\n",
    "\n",
    "engine.execute(sql)"
   ]
  },
  {
   "cell_type": "markdown",
   "id": "f4152d5d",
   "metadata": {},
   "source": [
    "**Выполним этот запрос повторно**"
   ]
  },
  {
   "cell_type": "code",
   "execution_count": null,
   "id": "f39e1766",
   "metadata": {},
   "outputs": [],
   "source": [
    "sql = f'''\n",
    "EXPLAIN ANALYZE\n",
    " SELECT * \n",
    "   FROM {SCHEMA_NAME}.flights_copy fc\n",
    "  WHERE fc.departure_airport = 'DME'\n",
    "    AND fc.arrival_airport = 'LED'\n",
    "'''\n",
    "\n",
    "engine.execute(sql).fetchall()"
   ]
  },
  {
   "cell_type": "markdown",
   "id": "a746357a",
   "metadata": {},
   "source": [
    "**Выведем только те поля, которые участвуют в индексе**"
   ]
  },
  {
   "cell_type": "code",
   "execution_count": null,
   "id": "bf4f051a",
   "metadata": {},
   "outputs": [],
   "source": [
    "sql = f'''\n",
    "EXPLAIN ANALYZE\n",
    " SELECT fc.departure_airport\n",
    "       ,fc.arrival_airport\n",
    "   FROM {SCHEMA_NAME}.flights_copy fc\n",
    "  WHERE fc.departure_airport = 'DME'\n",
    "    AND fc.arrival_airport = 'LED'\n",
    "'''\n",
    "\n",
    "engine.execute(sql).fetchall()"
   ]
  },
  {
   "cell_type": "markdown",
   "id": "afd436c0",
   "metadata": {},
   "source": [
    "**Допустим, нам необходимо посмотреть данные за определённую дату о совершенных полётах**"
   ]
  },
  {
   "cell_type": "code",
   "execution_count": null,
   "id": "2f7d8410",
   "metadata": {},
   "outputs": [],
   "source": [
    "sql = f'''\n",
    "EXPLAIN ANALYZE\n",
    " SELECT * \n",
    "   FROM {SCHEMA_NAME}.flights_copy fc\n",
    "  WHERE DATE(fc.actual_departure) = '2017-09-06'\n",
    "'''\n",
    "\n",
    "engine.execute(sql).fetchall()"
   ]
  },
  {
   "cell_type": "markdown",
   "id": "d428e7cd",
   "metadata": {},
   "source": [
    "**Сравним время выполнения фильтрации по равенству и наравенству**"
   ]
  },
  {
   "cell_type": "code",
   "execution_count": null,
   "id": "2dab01ee",
   "metadata": {},
   "outputs": [],
   "source": [
    "sql = f'''\n",
    "EXPLAIN ANALYZE\n",
    " SELECT * \n",
    "   FROM {SCHEMA_NAME}.flights_copy fc\n",
    "  WHERE DATE(fc.actual_departure) > '2017-09-06'\n",
    "'''\n",
    "\n",
    "engine.execute(sql).fetchall()"
   ]
  },
  {
   "cell_type": "markdown",
   "id": "64cba5ea",
   "metadata": {},
   "source": [
    "**Создадим индекс на колонку с датой отправления**"
   ]
  },
  {
   "cell_type": "code",
   "execution_count": null,
   "id": "dc8a6013",
   "metadata": {},
   "outputs": [],
   "source": [
    "sql = f'''\n",
    "DROP INDEX IF EXISTS flights_copy_actual_departure_index;\n",
    "\n",
    "CREATE INDEX flights_copy_actual_departure_index ON {SCHEMA_NAME}.flights_copy (actual_departure);\n",
    "'''\n",
    "\n",
    "engine.execute(sql)"
   ]
  },
  {
   "cell_type": "markdown",
   "id": "6e19e0d7",
   "metadata": {},
   "source": [
    "**Проверим, ускорился ли наш запрос**"
   ]
  },
  {
   "cell_type": "code",
   "execution_count": null,
   "id": "f5b16590",
   "metadata": {},
   "outputs": [],
   "source": [
    "sql = f'''\n",
    "EXPLAIN ANALYZE\n",
    " SELECT * \n",
    "   FROM {SCHEMA_NAME}.flights_copy fc\n",
    "  WHERE fc.actual_departure = '2017-09-06'\n",
    "'''\n",
    "\n",
    "engine.execute(sql).fetchall()"
   ]
  },
  {
   "cell_type": "markdown",
   "id": "af7b9cf0",
   "metadata": {},
   "source": [
    "**Сравним время выполнения фильтрации по равенству и наравенству на индексе**"
   ]
  },
  {
   "cell_type": "code",
   "execution_count": null,
   "id": "4f643f59",
   "metadata": {},
   "outputs": [],
   "source": [
    "sql = f'''\n",
    "EXPLAIN ANALYZE\n",
    " SELECT * \n",
    "   FROM {SCHEMA_NAME}.flights_copy fc\n",
    "  WHERE fc.actual_departure > '2017-09-06'\n",
    "'''\n",
    "\n",
    "engine.execute(sql).fetchall()"
   ]
  },
  {
   "cell_type": "markdown",
   "id": "52f5422a",
   "metadata": {},
   "source": [
    "**UNION vs UNION ALL**"
   ]
  },
  {
   "cell_type": "code",
   "execution_count": null,
   "id": "b8fb85fc",
   "metadata": {},
   "outputs": [],
   "source": [
    "sql = f'''\n",
    "EXPLAIN ANALYZE\n",
    " SELECT * \n",
    "   FROM {SCHEMA_NAME}.flights_copy fc\n",
    "  WHERE fc.scheduled_departure < '2017-01-01 00:00:00.000 +0300'\n",
    " UNION\n",
    " SELECT * \n",
    "   FROM {SCHEMA_NAME}.flights_copy fc2\n",
    "  WHERE fc2.scheduled_departure >= '2017-01-01 00:00:00.000 +0300'\n",
    "'''\n",
    "\n",
    "engine.execute(sql).fetchall()"
   ]
  },
  {
   "cell_type": "code",
   "execution_count": null,
   "id": "68eaaeb3",
   "metadata": {},
   "outputs": [],
   "source": [
    "sql = f'''\n",
    "EXPLAIN ANALYZE \n",
    " SELECT * \n",
    "   FROM {SCHEMA_NAME}.flights_copy fc\n",
    "  WHERE fc.scheduled_departure < '2017-01-01 00:00:00.000 +0300'\n",
    " UNION ALL\n",
    " SELECT * \n",
    "   FROM {SCHEMA_NAME}.flights_copy fc2\n",
    "  WHERE fc2.scheduled_departure >= '2017-01-01 00:00:00.000 +0300'\n",
    "'''\n",
    "\n",
    "engine.execute(sql).fetchall()"
   ]
  },
  {
   "cell_type": "markdown",
   "id": "d63a27cc",
   "metadata": {},
   "source": [
    "**Временные таблицы**"
   ]
  },
  {
   "cell_type": "code",
   "execution_count": null,
   "id": "221303b6",
   "metadata": {},
   "outputs": [],
   "source": [
    "sql = f'''\n",
    "EXPLAIN ANALYSE\n",
    "SELECT fc.*\n",
    "      ,tfc.ticket_no\n",
    "      ,tfc.fare_conditions \n",
    "      ,tfc.amount \n",
    "FROM {SCHEMA_NAME}.flights_copy fc\n",
    "JOIN {SCHEMA_NAME}.ticket_flights_copy tfc ON tfc.flight_id = fc.flight_id \n",
    "'''\n",
    "\n",
    "engine.execute(sql).fetchall()"
   ]
  },
  {
   "cell_type": "markdown",
   "id": "5c297cb0",
   "metadata": {},
   "source": [
    "**Создаём временную таблицу**"
   ]
  },
  {
   "cell_type": "code",
   "execution_count": null,
   "id": "9c8dd741",
   "metadata": {},
   "outputs": [],
   "source": [
    "sql = f'''\n",
    "CREATE TEMPORARY TABLE ticket_flights_materialized_{SCHEMA_NAME} AS \n",
    "SELECT fc.*\n",
    "      ,tfc.ticket_no\n",
    "      ,tfc.fare_conditions \n",
    "      ,tfc.amount \n",
    "  FROM {SCHEMA_NAME}.flights_copy fc\n",
    "  JOIN {SCHEMA_NAME}.ticket_flights_copy tfc ON tfc.flight_id = fc.flight_id;\n",
    "'''\n",
    "\n",
    "engine.execute(sql)"
   ]
  },
  {
   "cell_type": "markdown",
   "id": "3882e8c1",
   "metadata": {},
   "source": [
    "**Сделаем запрос к веременной таблице. Как изменилось время выполнения?**"
   ]
  },
  {
   "cell_type": "code",
   "execution_count": null,
   "id": "cf329b85",
   "metadata": {},
   "outputs": [],
   "source": [
    "sql = f'''\n",
    "EXPLAIN ANALYSE\n",
    " SELECT tfm.*\n",
    "   FROM ticket_flights_materialized_{SCHEMA_NAME} tfm;\n",
    "'''\n",
    "\n",
    "engine.execute(sql).fetchall()"
   ]
  }
 ],
 "metadata": {
  "kernelspec": {
   "display_name": "Python 3 (ipykernel)",
   "language": "python",
   "name": "python3"
  },
  "language_info": {
   "codemirror_mode": {
    "name": "ipython",
    "version": 3
   },
   "file_extension": ".py",
   "mimetype": "text/x-python",
   "name": "python",
   "nbconvert_exporter": "python",
   "pygments_lexer": "ipython3",
   "version": "3.9.13"
  }
 },
 "nbformat": 4,
 "nbformat_minor": 5
}
