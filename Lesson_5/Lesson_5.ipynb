{
 "cells": [
  {
   "cell_type": "markdown",
   "id": "0906902e",
   "metadata": {},
   "source": [
    "**I. Подключение к БД**"
   ]
  },
  {
   "cell_type": "markdown",
   "id": "6b9c456b",
   "metadata": {},
   "source": [
    "*Импортируем библиотеку psycopg2*"
   ]
  },
  {
   "cell_type": "code",
   "execution_count": null,
   "id": "a84095d5",
   "metadata": {},
   "outputs": [],
   "source": [
    "import psycopg2"
   ]
  },
  {
   "cell_type": "markdown",
   "id": "6f9271e4",
   "metadata": {},
   "source": [
    "*Создаём подключение к БД*"
   ]
  },
  {
   "cell_type": "code",
   "execution_count": null,
   "id": "aa547a0d",
   "metadata": {},
   "outputs": [],
   "source": [
    "conn = psycopg2.connect(host=\"rc1b-7ng6ih3jte3824x8.mdb.yandexcloud.net\", \n",
    "                        port=6432,\n",
    "                        database=\"demo\", \n",
    "                        user=\"student\",\n",
    "                        password=\"student!\"\n",
    "                       )"
   ]
  },
  {
   "cell_type": "markdown",
   "id": "65ae3e18",
   "metadata": {},
   "source": [
    "*Взаимодействие с базой осуществляется при помощи отдельного класса, cursor*"
   ]
  },
  {
   "cell_type": "code",
   "execution_count": null,
   "id": "5965bfa2",
   "metadata": {},
   "outputs": [],
   "source": [
    "cur = conn.cursor()"
   ]
  },
  {
   "cell_type": "code",
   "execution_count": null,
   "id": "66569cd6",
   "metadata": {},
   "outputs": [],
   "source": [
    "sql = '''\n",
    "SELECT *\n",
    "  FROM bookings.aircrafts_data\n",
    "'''"
   ]
  },
  {
   "cell_type": "code",
   "execution_count": null,
   "id": "edadbc5c",
   "metadata": {},
   "outputs": [],
   "source": [
    "print(sql)"
   ]
  },
  {
   "cell_type": "markdown",
   "id": "9c46b1d9",
   "metadata": {},
   "source": [
    "*Забрать все данные*"
   ]
  },
  {
   "cell_type": "code",
   "execution_count": null,
   "id": "c162432d",
   "metadata": {},
   "outputs": [],
   "source": [
    "cur.execute(sql)\n",
    "result = cur.fetchall()"
   ]
  },
  {
   "cell_type": "code",
   "execution_count": null,
   "id": "0869324b",
   "metadata": {},
   "outputs": [],
   "source": [
    "result"
   ]
  },
  {
   "cell_type": "markdown",
   "id": "9ac8381a",
   "metadata": {},
   "source": [
    "*Забрать данные по очереди*"
   ]
  },
  {
   "cell_type": "code",
   "execution_count": null,
   "id": "c622e71e",
   "metadata": {},
   "outputs": [],
   "source": [
    "cur.execute(sql)"
   ]
  },
  {
   "cell_type": "code",
   "execution_count": null,
   "id": "5490f139",
   "metadata": {},
   "outputs": [],
   "source": [
    "cur.fetchone()"
   ]
  },
  {
   "cell_type": "markdown",
   "id": "247f790b",
   "metadata": {},
   "source": [
    "*Вывод данных в цикле*"
   ]
  },
  {
   "cell_type": "code",
   "execution_count": null,
   "id": "04665834",
   "metadata": {},
   "outputs": [],
   "source": [
    "cur.execute(sql)\n",
    "for row in cur:\n",
    "    print(row)"
   ]
  },
  {
   "cell_type": "markdown",
   "id": "89baa6d5",
   "metadata": {},
   "source": [
    "*По завершении работы с курсором его следует закрыть*"
   ]
  },
  {
   "cell_type": "code",
   "execution_count": null,
   "id": "75f7b394",
   "metadata": {},
   "outputs": [],
   "source": [
    "cur.close()"
   ]
  },
  {
   "cell_type": "markdown",
   "id": "2646f008",
   "metadata": {},
   "source": [
    "*Чтобы постоянно не думать про cur.close(), можно выполнять транзакции в with-блоках:*"
   ]
  },
  {
   "cell_type": "code",
   "execution_count": null,
   "id": "a60940e4",
   "metadata": {},
   "outputs": [],
   "source": [
    "with conn:\n",
    "    with conn.cursor() as cur:\n",
    "        cur.execute(sql)\n",
    "        result = cur.fetchall()"
   ]
  },
  {
   "cell_type": "code",
   "execution_count": null,
   "id": "904520e1",
   "metadata": {},
   "outputs": [],
   "source": [
    "result"
   ]
  },
  {
   "cell_type": "markdown",
   "id": "139986a8",
   "metadata": {},
   "source": [
    "**II. Подключение к БД через SQLAlchemy**"
   ]
  },
  {
   "cell_type": "markdown",
   "id": "6aad4b11",
   "metadata": {},
   "source": [
    "Особенности SQLAlchemy:\n",
    "\n",
    "- ORM или Object Relational Mapper (объектно-реляционное отображение) позволяет работать с базой данных с помощью объектно-ориентированного кода, не используя SQL-запросы.\n",
    "- Код будет оставаться одинаковым вне зависимости от используемой БД."
   ]
  },
  {
   "cell_type": "code",
   "execution_count": null,
   "id": "62a6387d",
   "metadata": {},
   "outputs": [],
   "source": [
    "# !pip install sqlalchemy"
   ]
  },
  {
   "cell_type": "code",
   "execution_count": null,
   "id": "6ba9a4e0",
   "metadata": {},
   "outputs": [],
   "source": [
    "import sqlalchemy\n",
    "\n",
    "sqlalchemy.__version__"
   ]
  },
  {
   "cell_type": "markdown",
   "id": "210fb0d4",
   "metadata": {},
   "source": [
    "По умолчанию SQLAlchemy работает только с базой данных SQLite без дополнительных драйверов. \n",
    "\n",
    "Для работы с другими базами данных необходимо установить DBAPI-совместимый драйвер в соответствии с базой данных."
   ]
  },
  {
   "cell_type": "markdown",
   "id": "13e85511",
   "metadata": {},
   "source": [
    "Далее перечислены основные драйверы для различных БД:\n",
    "\n",
    "- MySQL: PyMySQL, MySQL-Connector, CyMySQL, MySQL-Python \n",
    "- PostgreSQL: psycopg2, pg8000\n",
    "- Microsoft SQL Server: PyODBC, pymssql\n",
    "- Oracle: cx-Oracle\n",
    "- Firebird: fdb, kinterbasdb"
   ]
  },
  {
   "cell_type": "code",
   "execution_count": null,
   "id": "d5492473",
   "metadata": {},
   "outputs": [],
   "source": [
    "from sqlalchemy import create_engine"
   ]
  },
  {
   "cell_type": "code",
   "execution_count": null,
   "id": "d3459214",
   "metadata": {},
   "outputs": [],
   "source": [
    "def connection_yandex_cloud_demo(echo):\n",
    "    \"\"\"Connection to DataBase demo\"\"\"\n",
    "    login = 'student'\n",
    "    password = 'student!'\n",
    "    host = 'rc1b-7ng6ih3jte3824x8.mdb.yandexcloud.net'\n",
    "    port = '6432'\n",
    "    db_name = 'demo'\n",
    "    return create_engine(f'postgresql://{login}:{password}@{host}:{port}/{db_name}', echo=echo)"
   ]
  },
  {
   "cell_type": "code",
   "execution_count": null,
   "id": "5993a88f",
   "metadata": {},
   "outputs": [],
   "source": [
    "engine = connection_yandex_cloud_demo(echo=True)"
   ]
  },
  {
   "cell_type": "markdown",
   "id": "1ba430f0",
   "metadata": {},
   "source": [
    "Формирование запроса на выборку данных"
   ]
  },
  {
   "cell_type": "code",
   "execution_count": null,
   "id": "9395e09f",
   "metadata": {},
   "outputs": [],
   "source": [
    "engine.table_names()"
   ]
  },
  {
   "cell_type": "markdown",
   "id": "c4c89dea",
   "metadata": {},
   "source": [
    "*Запрос на чистом SQL*"
   ]
  },
  {
   "cell_type": "code",
   "execution_count": null,
   "id": "b37f498d",
   "metadata": {},
   "outputs": [],
   "source": [
    "select_result = engine.execute('''select * from aircrafts_data''').fetchall()"
   ]
  },
  {
   "cell_type": "code",
   "execution_count": null,
   "id": "3478ab33",
   "metadata": {},
   "outputs": [],
   "source": [
    "select_result"
   ]
  },
  {
   "cell_type": "markdown",
   "id": "95451824",
   "metadata": {},
   "source": [
    "*Результат возвращается в виде списка. Каждый элемент списка является строкой из БД.*"
   ]
  },
  {
   "cell_type": "code",
   "execution_count": null,
   "id": "3f6244b3",
   "metadata": {},
   "outputs": [],
   "source": [
    "select_result[0]"
   ]
  },
  {
   "cell_type": "code",
   "execution_count": null,
   "id": "2d6d1a7d",
   "metadata": {},
   "outputs": [],
   "source": [
    "select_result[0][0]"
   ]
  },
  {
   "cell_type": "code",
   "execution_count": null,
   "id": "a891f23d",
   "metadata": {},
   "outputs": [],
   "source": [
    "select_result[0][1]"
   ]
  },
  {
   "cell_type": "code",
   "execution_count": null,
   "id": "2f9c2881",
   "metadata": {},
   "outputs": [],
   "source": [
    "select_result[0][1]"
   ]
  },
  {
   "cell_type": "code",
   "execution_count": null,
   "id": "9536d26a",
   "metadata": {},
   "outputs": [],
   "source": [
    "select_result[0][1]['en']"
   ]
  },
  {
   "cell_type": "markdown",
   "id": "2f380435",
   "metadata": {},
   "source": [
    "*Запросы с применением ORM (объектно-реляционное отображение) SQLAlchemy*"
   ]
  },
  {
   "cell_type": "markdown",
   "id": "ba37c79a",
   "metadata": {},
   "source": [
    "Загружаем данные о таблицах из БД demo"
   ]
  },
  {
   "cell_type": "code",
   "execution_count": null,
   "id": "5fd44986",
   "metadata": {},
   "outputs": [],
   "source": [
    "from sqlalchemy.schema import MetaData\n",
    "\n",
    "metadata_demo_db = MetaData()\n",
    "metadata_demo_db.reflect(bind=engine);"
   ]
  },
  {
   "cell_type": "code",
   "execution_count": null,
   "id": "7f68c5c8",
   "metadata": {},
   "outputs": [],
   "source": [
    "for table_name in metadata_demo_db.tables:\n",
    "    print(table_name)"
   ]
  },
  {
   "cell_type": "code",
   "execution_count": null,
   "id": "7215f247",
   "metadata": {},
   "outputs": [],
   "source": [
    "from sqlalchemy import Table\n",
    "\n",
    "boarding_passes = Table('boarding_passes', metadata_demo_db, autoload=True)\n",
    "ticket_flights = Table('ticket_flights', metadata_demo_db, autoload=True)\n",
    "flights = Table('flights', metadata_demo_db, autoload=True)\n",
    "aircrafts_data = Table('aircrafts_data', metadata_demo_db, autoload=True)\n",
    "airports_data = Table('airports_data', metadata_demo_db, autoload=True)\n",
    "tickets = Table('tickets', metadata_demo_db, autoload=True)\n",
    "bookings = Table('bookings', metadata_demo_db, autoload=True)\n",
    "seats = Table('seats', metadata_demo_db, autoload=True)"
   ]
  },
  {
   "cell_type": "code",
   "execution_count": null,
   "id": "58294c33",
   "metadata": {},
   "outputs": [],
   "source": [
    "print(aircrafts_data.columns)"
   ]
  },
  {
   "cell_type": "code",
   "execution_count": null,
   "id": "69cd2e34",
   "metadata": {},
   "outputs": [],
   "source": [
    "from sqlalchemy import select\n",
    "\n",
    "sql_query = select(aircrafts_data)\n",
    "result = engine.execute(sql_query)"
   ]
  },
  {
   "cell_type": "code",
   "execution_count": null,
   "id": "a3c77f16",
   "metadata": {},
   "outputs": [],
   "source": [
    "result.fetchall()"
   ]
  },
  {
   "cell_type": "markdown",
   "id": "de245e96",
   "metadata": {},
   "source": [
    "Фильтрация записей"
   ]
  },
  {
   "cell_type": "code",
   "execution_count": null,
   "id": "b5f58a2a",
   "metadata": {},
   "outputs": [],
   "source": [
    "sql_query = select(aircrafts_data).where(\n",
    "    aircrafts_data.c.range < 5000\n",
    ")\n",
    "\n",
    "\n",
    "print(sql_query)"
   ]
  },
  {
   "cell_type": "code",
   "execution_count": null,
   "id": "ed0e2b25",
   "metadata": {},
   "outputs": [],
   "source": [
    "result_with_where = engine.execute(sql_query);\n",
    "\n",
    "result_with_where.fetchall()"
   ]
  },
  {
   "cell_type": "markdown",
   "id": "3d667a1f",
   "metadata": {},
   "source": [
    "Фильтрация по нескольким условиям"
   ]
  },
  {
   "cell_type": "code",
   "execution_count": null,
   "id": "d9548fbf",
   "metadata": {},
   "outputs": [],
   "source": [
    "sql_query = select(aircrafts_data).where(\n",
    "    (aircrafts_data.c.range < 5000) &\n",
    "    (aircrafts_data.c.aircraft_code == 'SU9')\n",
    ")\n",
    "\n",
    "print(sql_query)"
   ]
  },
  {
   "cell_type": "code",
   "execution_count": null,
   "id": "7120bc91",
   "metadata": {},
   "outputs": [],
   "source": [
    "result_with_where = engine.execute(sql_query);\n",
    "\n",
    "result_with_where.fetchall()"
   ]
  },
  {
   "cell_type": "markdown",
   "id": "da93440c",
   "metadata": {},
   "source": [
    "Логические операторы:\n",
    "\n",
    "AND - \"&\"\n",
    "\n",
    "OR - \"|\"\n",
    "\n",
    "NOT - \"~\" "
   ]
  },
  {
   "cell_type": "code",
   "execution_count": null,
   "id": "315843f7",
   "metadata": {},
   "outputs": [],
   "source": [
    "sql_query = select([aircrafts_data]).\\\n",
    "    where(\n",
    "      (aircrafts_data.c.range > 3000 ) | \n",
    "      (aircrafts_data.c.range < 9000)\n",
    "    ) \n",
    "print(sql_query, '\\n')\n",
    "\n",
    "sql_query = select([aircrafts_data]).\\\n",
    "    where(    \n",
    "      ~(aircrafts_data.c.aircraft_code == '733')\n",
    "    ) \n",
    "print(sql_query, '\\n')\n",
    "\n",
    "sql_query = select([aircrafts_data]).\\\n",
    "    where(\n",
    "      ~(aircrafts_data.c.aircraft_code == '733') &\n",
    "      (aircrafts_data.c.range < 3000)\n",
    "    )\n",
    "print(sql_query)"
   ]
  },
  {
   "cell_type": "markdown",
   "id": "e0a0967e",
   "metadata": {},
   "source": [
    "IS NULL"
   ]
  },
  {
   "cell_type": "code",
   "execution_count": null,
   "id": "ddaf81bf",
   "metadata": {},
   "outputs": [],
   "source": [
    "sql_query = select(flights).\\\n",
    "    where(\n",
    "      (flights.c.actual_departure == None)\n",
    "    ) \n",
    "\n",
    "print(sql_query, '\\n')"
   ]
  },
  {
   "cell_type": "code",
   "execution_count": null,
   "id": "e8239dfc",
   "metadata": {},
   "outputs": [],
   "source": [
    "result = engine.execute(sql_query);\n",
    "\n",
    "result.fetchone()"
   ]
  },
  {
   "cell_type": "markdown",
   "id": "3254b724",
   "metadata": {},
   "source": [
    "IS NOT NULL"
   ]
  },
  {
   "cell_type": "code",
   "execution_count": null,
   "id": "311d9365",
   "metadata": {},
   "outputs": [],
   "source": [
    "sql_query = select(flights).where(\n",
    "flights.c.actual_departure != None)\n",
    "\n",
    "print(sql_query, '\\n')"
   ]
  },
  {
   "cell_type": "markdown",
   "id": "a6891c93",
   "metadata": {},
   "source": [
    "IN"
   ]
  },
  {
   "cell_type": "code",
   "execution_count": null,
   "id": "85153474",
   "metadata": {},
   "outputs": [],
   "source": [
    "sql_query = select(flights).\\\n",
    "    where(flights.c.departure_airport.in_(['DME','VKO']) )\n",
    "\n",
    "print(sql_query, '\\n')"
   ]
  },
  {
   "cell_type": "code",
   "execution_count": null,
   "id": "de968d56",
   "metadata": {},
   "outputs": [],
   "source": [
    "engine.execute(sql_query).fetchone()"
   ]
  },
  {
   "cell_type": "markdown",
   "id": "91b8f219",
   "metadata": {},
   "source": [
    "NOT IN"
   ]
  },
  {
   "cell_type": "code",
   "execution_count": null,
   "id": "f3765f4e",
   "metadata": {},
   "outputs": [],
   "source": [
    "sql_query = select(flights).\\\n",
    "    where(flights.c.departure_airport.notin_(['DME','VKO']) )\n",
    "\n",
    "print(sql_query, '\\n')"
   ]
  },
  {
   "cell_type": "code",
   "execution_count": null,
   "id": "c6852795",
   "metadata": {},
   "outputs": [],
   "source": [
    "engine.execute(sql_query).fetchone()"
   ]
  },
  {
   "cell_type": "markdown",
   "id": "9ffa6f4c",
   "metadata": {},
   "source": [
    "BETWEEN"
   ]
  },
  {
   "cell_type": "code",
   "execution_count": null,
   "id": "4bf85079",
   "metadata": {},
   "outputs": [],
   "source": [
    "sql_query = select(aircrafts_data).\\\n",
    "            where(aircrafts_data.c.range.between(5000,10000) )\n",
    "\n",
    "print(sql_query, '\\n')"
   ]
  },
  {
   "cell_type": "code",
   "execution_count": null,
   "id": "504460ee",
   "metadata": {},
   "outputs": [],
   "source": [
    "engine.execute(sql_query).fetchall()"
   ]
  },
  {
   "cell_type": "markdown",
   "id": "5dcca4e3",
   "metadata": {},
   "source": [
    "LIKE"
   ]
  },
  {
   "cell_type": "code",
   "execution_count": null,
   "id": "3d6b6592",
   "metadata": {},
   "outputs": [],
   "source": [
    "sql_query = select(aircrafts_data).\\\n",
    "            where(aircrafts_data.c.aircraft_code.like('C%') )\n",
    "\n",
    "print(sql_query, '\\n')"
   ]
  },
  {
   "cell_type": "code",
   "execution_count": null,
   "id": "7bb3d234",
   "metadata": {},
   "outputs": [],
   "source": [
    "engine.execute(sql_query).fetchall()"
   ]
  },
  {
   "cell_type": "markdown",
   "id": "01b5bc2e",
   "metadata": {},
   "source": [
    "Сортировка ORDER BY"
   ]
  },
  {
   "cell_type": "code",
   "execution_count": null,
   "id": "a01fca6a",
   "metadata": {},
   "outputs": [],
   "source": [
    "sql_query = select(aircrafts_data).\\\n",
    "            order_by(aircrafts_data.c.range)\n",
    "\n",
    "print(sql_query, '\\n')"
   ]
  },
  {
   "cell_type": "code",
   "execution_count": null,
   "id": "1aece32c",
   "metadata": {},
   "outputs": [],
   "source": [
    "engine.execute(sql_query).fetchall()"
   ]
  },
  {
   "cell_type": "markdown",
   "id": "de26cab8",
   "metadata": {},
   "source": [
    "Обратная сортировка"
   ]
  },
  {
   "cell_type": "code",
   "execution_count": null,
   "id": "7bab35f7",
   "metadata": {},
   "outputs": [],
   "source": [
    "from sqlalchemy import desc"
   ]
  },
  {
   "cell_type": "code",
   "execution_count": null,
   "id": "a798d542",
   "metadata": {},
   "outputs": [],
   "source": [
    "sql_query = select(aircrafts_data).\\\n",
    "            order_by(desc(aircrafts_data.c.range))\n",
    "\n",
    "print(sql_query, '\\n')"
   ]
  },
  {
   "cell_type": "code",
   "execution_count": null,
   "id": "14bdb6d6",
   "metadata": {},
   "outputs": [],
   "source": [
    "engine.execute(sql_query).fetchall()"
   ]
  },
  {
   "cell_type": "markdown",
   "id": "47fb045f",
   "metadata": {},
   "source": [
    "LIMIT"
   ]
  },
  {
   "cell_type": "code",
   "execution_count": null,
   "id": "a6a1300b",
   "metadata": {},
   "outputs": [],
   "source": [
    "from sqlalchemy import desc\n",
    "\n",
    "sql_query = select(aircrafts_data).\\\n",
    "            order_by(desc(aircrafts_data.c.range)).\\\n",
    "            limit(3)\n",
    "\n",
    "print(sql_query, '\\n')"
   ]
  },
  {
   "cell_type": "code",
   "execution_count": null,
   "id": "3db63358",
   "metadata": {},
   "outputs": [],
   "source": [
    "engine.execute(sql_query).fetchall()"
   ]
  },
  {
   "cell_type": "markdown",
   "id": "4234a8fe",
   "metadata": {},
   "source": [
    "OFFSET"
   ]
  },
  {
   "cell_type": "code",
   "execution_count": null,
   "id": "66eaec71",
   "metadata": {},
   "outputs": [],
   "source": [
    "from sqlalchemy import desc\n",
    "\n",
    "sql_query = select(aircrafts_data).\\\n",
    "            order_by(desc(aircrafts_data.c.range)).\\\n",
    "            limit(3).\\\n",
    "            offset(3)\n",
    "\n",
    "print(sql_query, '\\n')"
   ]
  },
  {
   "cell_type": "code",
   "execution_count": null,
   "id": "f6cbbc3c",
   "metadata": {},
   "outputs": [],
   "source": [
    "engine.execute(sql_query).fetchall()"
   ]
  },
  {
   "cell_type": "markdown",
   "id": "240448ef",
   "metadata": {},
   "source": [
    "LABEL (ALIAS)"
   ]
  },
  {
   "cell_type": "code",
   "execution_count": null,
   "id": "4b3d70aa",
   "metadata": {},
   "outputs": [],
   "source": [
    "from sqlalchemy import desc\n",
    "\n",
    "sql_query = select([\n",
    "                aircrafts_data.c.aircraft_code\n",
    "               ,aircrafts_data.c.range.label('rng')\n",
    "            ]).\\\n",
    "            order_by(desc('rng')).\\\n",
    "            limit(3)\n",
    "\n",
    "print(sql_query, '\\n')"
   ]
  },
  {
   "cell_type": "code",
   "execution_count": null,
   "id": "fea7d802",
   "metadata": {},
   "outputs": [],
   "source": [
    "engine.execute(sql_query).fetchall()"
   ]
  },
  {
   "cell_type": "markdown",
   "id": "9c8a6025",
   "metadata": {},
   "source": [
    "Использование функций"
   ]
  },
  {
   "cell_type": "code",
   "execution_count": null,
   "id": "6a2375d6",
   "metadata": {},
   "outputs": [],
   "source": [
    "from sqlalchemy.sql import func\n",
    "\n",
    "functions = [\n",
    "    \n",
    "    ## datetime operations\n",
    "    \n",
    "    func.timeofday(),\n",
    "    func.localtime(),\n",
    "    func.current_timestamp(),    \n",
    "    func.date_part(\"month\", func.now()),        \n",
    "    func.now(),\n",
    "    \n",
    "    # math operations\n",
    "    \n",
    "    func.pow(4,2),\n",
    "    func.sqrt(441),\n",
    "    func.pi(),        \n",
    "    func.floor(func.pi()),\n",
    "    func.ceil(func.pi()),\n",
    "    \n",
    "    # operations with strings\n",
    "    \n",
    "    func.lower(\"ABC\"),\n",
    "    func.upper(\"abc\"),\n",
    "    func.length(\"abc\"),\n",
    "]\n",
    "\n",
    "select_query = select(functions)\n",
    "print(select_query)\n",
    "\n",
    "# result_set = engine.execute(select_query)\n",
    "# print(result_set.fetchall())"
   ]
  },
  {
   "cell_type": "markdown",
   "id": "999e9adc",
   "metadata": {},
   "source": [
    "Агрегирующие функции"
   ]
  },
  {
   "cell_type": "code",
   "execution_count": null,
   "id": "72cf0ec0",
   "metadata": {},
   "outputs": [],
   "source": [
    "# Примеры:\n",
    "\n",
    "agg_functions = [ \n",
    "    func.sum(table_name.c.column_name),\n",
    "    func.avg(table_name.c.column_name),    \n",
    "    func.max(table_name.c.column_name),\n",
    "    func.min(table_name.c.column_name),\n",
    "    func.count(table_name.c.column_name),    \n",
    "]"
   ]
  },
  {
   "cell_type": "code",
   "execution_count": null,
   "id": "84d7afd5",
   "metadata": {},
   "outputs": [],
   "source": [
    "from sqlalchemy.sql import func\n",
    "\n",
    "sql_query = select([\n",
    "                func.sum(ticket_flights.c.amount).label('total_amount')\n",
    "            ])\n",
    "\n",
    "print(sql_query)"
   ]
  },
  {
   "cell_type": "code",
   "execution_count": null,
   "id": "ce0f0268",
   "metadata": {},
   "outputs": [],
   "source": [
    "engine.execute(sql_query).fetchone()"
   ]
  },
  {
   "cell_type": "markdown",
   "id": "10fe9291",
   "metadata": {},
   "source": [
    "Группировка GROUP BY"
   ]
  },
  {
   "cell_type": "code",
   "execution_count": null,
   "id": "5eb2a4bd",
   "metadata": {},
   "outputs": [],
   "source": [
    "sql_query = select(\n",
    "                flights.c.departure_airport.label('dep_air')\n",
    "               ,func.count(\"*\")\n",
    "            ).group_by('dep_air')"
   ]
  },
  {
   "cell_type": "code",
   "execution_count": null,
   "id": "ebb84cff",
   "metadata": {},
   "outputs": [],
   "source": [
    "engine.execute(sql_query).fetchall()"
   ]
  },
  {
   "cell_type": "markdown",
   "id": "bbbed35f",
   "metadata": {},
   "source": [
    "**Объединения JOINS**"
   ]
  },
  {
   "cell_type": "code",
   "execution_count": null,
   "id": "6e5946d5",
   "metadata": {},
   "outputs": [],
   "source": [
    "print(aircrafts_data.join(seats))"
   ]
  },
  {
   "cell_type": "code",
   "execution_count": null,
   "id": "31371c89",
   "metadata": {},
   "outputs": [],
   "source": [
    "sql_query = select([\n",
    "    aircrafts_data\n",
    "    ,seats.c.seat_no\n",
    "    ,seats.c.fare_conditions\n",
    "]\n",
    ").\\\n",
    "select_from(aircrafts_data.\\\n",
    "            join(seats)\n",
    "           )"
   ]
  },
  {
   "cell_type": "code",
   "execution_count": null,
   "id": "919ec3e6",
   "metadata": {},
   "outputs": [],
   "source": [
    "print(sql_query)"
   ]
  },
  {
   "cell_type": "code",
   "execution_count": null,
   "id": "49dcf66f",
   "metadata": {},
   "outputs": [],
   "source": [
    "engine.execute(sql_query).fetchall()"
   ]
  },
  {
   "cell_type": "markdown",
   "id": "34ce003c",
   "metadata": {},
   "source": [
    "**Оконные функции**"
   ]
  },
  {
   "cell_type": "code",
   "execution_count": null,
   "id": "a6a83766",
   "metadata": {},
   "outputs": [],
   "source": [
    "sql_query = select(aircrafts_data.c.aircraft_code\n",
    "                  ,func.sum(aircrafts_data.c.range).over(\n",
    "                  partition_by = aircrafts_data.c.aircraft_code,\n",
    "                  order_by = aircrafts_data.c.aircraft_code\n",
    "                  )\n",
    "                  )\n",
    "\n",
    "\n",
    "print(sql_query)"
   ]
  },
  {
   "cell_type": "code",
   "execution_count": null,
   "id": "afef0758",
   "metadata": {},
   "outputs": [],
   "source": [
    "engine.execute(sql_query).fetchall()"
   ]
  },
  {
   "cell_type": "markdown",
   "id": "9d44df8f",
   "metadata": {},
   "source": [
    "**Загрузка данных с помощью Pandas**"
   ]
  },
  {
   "cell_type": "markdown",
   "id": "6c620e3d",
   "metadata": {},
   "source": [
    "*Импортируем библиотеки*"
   ]
  },
  {
   "cell_type": "code",
   "execution_count": null,
   "id": "26888741",
   "metadata": {},
   "outputs": [],
   "source": [
    "import pandas as pd\n",
    "pd.set_option('display.max_columns', None)\n",
    "\n",
    "import warnings\n",
    "warnings.filterwarnings('ignore')"
   ]
  },
  {
   "cell_type": "markdown",
   "id": "1602a703",
   "metadata": {},
   "source": [
    "**Выборка данных с помощью Pandas**"
   ]
  },
  {
   "cell_type": "code",
   "execution_count": null,
   "id": "5f1c53bb",
   "metadata": {},
   "outputs": [],
   "source": [
    "def replace_procent(sql_query):\n",
    "    sql_query = sql_query.replace('%', '%%')\n",
    "    return sql_query"
   ]
  },
  {
   "cell_type": "code",
   "execution_count": null,
   "id": "a412c73b",
   "metadata": {},
   "outputs": [],
   "source": [
    "sql = '''\n",
    "SELECT t.passenger_name\n",
    "      ,f.scheduled_departure \n",
    "      ,sum(tf.amount) over(PARTITION BY t.passenger_name ORDER BY f.scheduled_departure) AS current_sum\n",
    "      ,tf.amount\n",
    "  FROM tickets t \n",
    "  JOIN ticket_flights AS tf USING (ticket_no) \n",
    "  JOIN flights AS f ON tf.flight_id = f.flight_id\n",
    " WHERE t.passenger_name LIKE '%OVA'\n",
    "'''"
   ]
  },
  {
   "cell_type": "code",
   "execution_count": null,
   "id": "b4c18f01",
   "metadata": {},
   "outputs": [],
   "source": [
    "sql"
   ]
  },
  {
   "cell_type": "code",
   "execution_count": null,
   "id": "c60f1f41",
   "metadata": {},
   "outputs": [],
   "source": [
    "new_sql = replace_procent(sql)"
   ]
  },
  {
   "cell_type": "code",
   "execution_count": null,
   "id": "abfac996",
   "metadata": {},
   "outputs": [],
   "source": [
    "new_sql"
   ]
  },
  {
   "cell_type": "code",
   "execution_count": null,
   "id": "451f9735",
   "metadata": {},
   "outputs": [],
   "source": [
    "?pd.read_sql"
   ]
  },
  {
   "cell_type": "code",
   "execution_count": null,
   "id": "3996f329",
   "metadata": {},
   "outputs": [],
   "source": [
    "df = pd.read_sql(new_sql, con=engine)"
   ]
  },
  {
   "cell_type": "code",
   "execution_count": null,
   "id": "7fbe7460",
   "metadata": {},
   "outputs": [],
   "source": [
    "df.shape"
   ]
  },
  {
   "cell_type": "code",
   "execution_count": null,
   "id": "e4e6fc69",
   "metadata": {},
   "outputs": [],
   "source": [
    "df.head()"
   ]
  },
  {
   "cell_type": "code",
   "execution_count": null,
   "id": "a259be36",
   "metadata": {},
   "outputs": [],
   "source": [
    "df[df['passenger_name'] == 'ADELINA POPOVA'][['scheduled_departure', 'current_sum']]"
   ]
  },
  {
   "cell_type": "markdown",
   "id": "e8912219",
   "metadata": {},
   "source": [
    "Посчитаем количество перелётов для каждого месяца"
   ]
  },
  {
   "cell_type": "code",
   "execution_count": null,
   "id": "bdb0e003",
   "metadata": {},
   "outputs": [],
   "source": [
    "sql = '''\n",
    "SELECT extract(YEAR FROM scheduled_departure) AS \"year\"\n",
    "      ,extract(MONTH FROM scheduled_departure) AS \"month\"\n",
    "      ,count(flight_id) AS count_of_flights\n",
    "  FROM flights\n",
    " GROUP BY extract(YEAR FROM scheduled_departure), extract(MONTH FROM scheduled_departure)\n",
    " ORDER BY 1, 2\n",
    "'''"
   ]
  },
  {
   "cell_type": "code",
   "execution_count": null,
   "id": "941c4fe9",
   "metadata": {},
   "outputs": [],
   "source": [
    "df = pd.read_sql(sql, con=engine)"
   ]
  },
  {
   "cell_type": "code",
   "execution_count": null,
   "id": "ec39ad85",
   "metadata": {},
   "outputs": [],
   "source": [
    "df.shape"
   ]
  },
  {
   "cell_type": "code",
   "execution_count": null,
   "id": "924613a2",
   "metadata": {},
   "outputs": [],
   "source": [
    "df.head()"
   ]
  },
  {
   "cell_type": "code",
   "execution_count": null,
   "id": "5e75cef1",
   "metadata": {},
   "outputs": [],
   "source": [
    "df.dtypes"
   ]
  },
  {
   "cell_type": "markdown",
   "id": "034ac09a",
   "metadata": {},
   "source": [
    "Преобразуем типы двух колонок"
   ]
  },
  {
   "cell_type": "code",
   "execution_count": null,
   "id": "f89a0731",
   "metadata": {},
   "outputs": [],
   "source": [
    "df.year = df.year.astype(int)\n",
    "df.month = df.month.astype(int)"
   ]
  },
  {
   "cell_type": "code",
   "execution_count": null,
   "id": "5375d955",
   "metadata": {},
   "outputs": [],
   "source": [
    "df.head()"
   ]
  },
  {
   "cell_type": "markdown",
   "id": "c62c8063",
   "metadata": {},
   "source": [
    "Создадим новую колонку год-месяц"
   ]
  },
  {
   "cell_type": "code",
   "execution_count": null,
   "id": "f2e13b7e",
   "metadata": {},
   "outputs": [],
   "source": [
    "(df.year.astype(str) + '-' + df.month.astype(str))"
   ]
  },
  {
   "cell_type": "code",
   "execution_count": null,
   "id": "65208572",
   "metadata": {},
   "outputs": [],
   "source": [
    "df['year_month'] = (df.year.astype(str) + '-' + df.month.astype(str))"
   ]
  },
  {
   "cell_type": "code",
   "execution_count": null,
   "id": "d7b288b8",
   "metadata": {},
   "outputs": [],
   "source": [
    "df.head()"
   ]
  },
  {
   "cell_type": "markdown",
   "id": "12535e43",
   "metadata": {},
   "source": [
    "Нарисуем столбчатую диаграмму кол-ва перелётов по месяцам"
   ]
  },
  {
   "cell_type": "code",
   "execution_count": null,
   "id": "7fdcb780",
   "metadata": {},
   "outputs": [],
   "source": [
    "df = df[['year_month', 'count_of_flights']]\n",
    "ax = df.plot.bar(x='year_month', y='count_of_flights', title='Count of flights')"
   ]
  }
 ],
 "metadata": {
  "kernelspec": {
   "display_name": "Python 3 (ipykernel)",
   "language": "python",
   "name": "python3"
  },
  "language_info": {
   "codemirror_mode": {
    "name": "ipython",
    "version": 3
   },
   "file_extension": ".py",
   "mimetype": "text/x-python",
   "name": "python",
   "nbconvert_exporter": "python",
   "pygments_lexer": "ipython3",
   "version": "3.9.13"
  }
 },
 "nbformat": 4,
 "nbformat_minor": 5
}
