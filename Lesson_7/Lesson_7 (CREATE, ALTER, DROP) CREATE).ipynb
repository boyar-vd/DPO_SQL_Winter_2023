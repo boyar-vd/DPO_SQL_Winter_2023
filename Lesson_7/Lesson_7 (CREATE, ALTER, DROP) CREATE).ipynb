{
 "cells": [
  {
   "cell_type": "markdown",
   "id": "86a4dbd8",
   "metadata": {},
   "source": [
    "*Импортируем библиотеки*"
   ]
  },
  {
   "cell_type": "code",
   "execution_count": 1,
   "id": "26888741",
   "metadata": {},
   "outputs": [],
   "source": [
    "from sqlalchemy import create_engine\n",
    "\n",
    "import pandas as pd\n",
    "pd.set_option('display.max_columns', None)\n",
    "\n",
    "import warnings\n",
    "warnings.filterwarnings('ignore')"
   ]
  },
  {
   "cell_type": "markdown",
   "id": "ac029cc9",
   "metadata": {},
   "source": [
    "*Создаём подключение к БД*"
   ]
  },
  {
   "cell_type": "code",
   "execution_count": 2,
   "id": "4258c1d0",
   "metadata": {},
   "outputs": [],
   "source": [
    "def connection_yandex_cloud_demo(echo):\n",
    "    \"\"\"Connection to DataBase dwh\"\"\"\n",
    "    login = 'student'\n",
    "    password = 'student!'\n",
    "    host = 'rc1b-7ng6ih3jte3824x8.mdb.yandexcloud.net'\n",
    "    port = '6432'\n",
    "    db_name = 'demo'\n",
    "    return create_engine(f'postgresql://{login}:{password}@{host}:{port}/{db_name}', echo=echo)\n",
    "\n",
    "engine_demo = connection_yandex_cloud_demo(echo=True)"
   ]
  },
  {
   "cell_type": "markdown",
   "id": "2034f50e",
   "metadata": {},
   "source": [
    "*Распаковываем и загружаем данные*"
   ]
  },
  {
   "cell_type": "code",
   "execution_count": null,
   "id": "cd1c421b",
   "metadata": {},
   "outputs": [],
   "source": [
    "# import zipfile\n",
    "# with zipfile.ZipFile('data/fraud.csv.zip', 'r') as archive:\n",
    "#     archive.extractall('data/')"
   ]
  },
  {
   "cell_type": "code",
   "execution_count": 4,
   "id": "5dda9691",
   "metadata": {},
   "outputs": [
    {
     "name": "stdout",
     "output_type": "stream",
     "text": [
      "HW_7.docx\r\n",
      "HW_7.pdf\r\n",
      "Lesson_7 (CREATE, ALTER, DROP) CREATE).ipynb\r\n",
      "SQL_Lesson_7.pdf\r\n",
      "SQL_Lesson_7.pptx\r\n",
      "\u001b[34mdata\u001b[m\u001b[m\r\n",
      "~$SQL_Lesson_7.pptx\r\n"
     ]
    }
   ],
   "source": [
    "!ls"
   ]
  },
  {
   "cell_type": "code",
   "execution_count": 3,
   "id": "dc190211",
   "metadata": {},
   "outputs": [],
   "source": [
    "df = pd.read_csv('data/da_data_n1-2.csv', sep=';')"
   ]
  },
  {
   "cell_type": "markdown",
   "id": "cb36a576",
   "metadata": {},
   "source": [
    "*Посмотрим на датасет*"
   ]
  },
  {
   "cell_type": "code",
   "execution_count": 5,
   "id": "ed547767",
   "metadata": {},
   "outputs": [
    {
     "data": {
      "text/plain": [
       "(126497, 4)"
      ]
     },
     "execution_count": 5,
     "metadata": {},
     "output_type": "execute_result"
    }
   ],
   "source": [
    "df.shape"
   ]
  },
  {
   "cell_type": "code",
   "execution_count": 6,
   "id": "6976062f",
   "metadata": {},
   "outputs": [
    {
     "name": "stdout",
     "output_type": "stream",
     "text": [
      "<class 'pandas.core.frame.DataFrame'>\n",
      "RangeIndex: 126497 entries, 0 to 126496\n",
      "Data columns (total 4 columns):\n",
      " #   Column   Non-Null Count   Dtype \n",
      "---  ------   --------------   ----- \n",
      " 0   product  126497 non-null  object\n",
      " 1   year     126497 non-null  int64 \n",
      " 2   month    126497 non-null  object\n",
      " 3   value    126497 non-null  object\n",
      "dtypes: int64(1), object(3)\n",
      "memory usage: 3.9+ MB\n"
     ]
    }
   ],
   "source": [
    "df.info()"
   ]
  },
  {
   "cell_type": "code",
   "execution_count": 11,
   "id": "f78814fa",
   "metadata": {},
   "outputs": [
    {
     "data": {
      "text/html": [
       "<div>\n",
       "<style scoped>\n",
       "    .dataframe tbody tr th:only-of-type {\n",
       "        vertical-align: middle;\n",
       "    }\n",
       "\n",
       "    .dataframe tbody tr th {\n",
       "        vertical-align: top;\n",
       "    }\n",
       "\n",
       "    .dataframe thead th {\n",
       "        text-align: right;\n",
       "    }\n",
       "</style>\n",
       "<table border=\"1\" class=\"dataframe\">\n",
       "  <thead>\n",
       "    <tr style=\"text-align: right;\">\n",
       "      <th></th>\n",
       "      <th>product</th>\n",
       "      <th>year</th>\n",
       "      <th>month</th>\n",
       "      <th>value</th>\n",
       "    </tr>\n",
       "  </thead>\n",
       "  <tbody>\n",
       "    <tr>\n",
       "      <th>126492</th>\n",
       "      <td>Ягоды замороженные, кг</td>\n",
       "      <td>2023</td>\n",
       "      <td>июнь</td>\n",
       "      <td>559,23</td>\n",
       "    </tr>\n",
       "    <tr>\n",
       "      <th>126493</th>\n",
       "      <td>Ягоды замороженные, кг</td>\n",
       "      <td>2023</td>\n",
       "      <td>июль</td>\n",
       "      <td>557,83</td>\n",
       "    </tr>\n",
       "    <tr>\n",
       "      <th>126494</th>\n",
       "      <td>Ягоды замороженные, кг</td>\n",
       "      <td>2023</td>\n",
       "      <td>август</td>\n",
       "      <td>557,83</td>\n",
       "    </tr>\n",
       "    <tr>\n",
       "      <th>126495</th>\n",
       "      <td>Ягоды замороженные, кг</td>\n",
       "      <td>2023</td>\n",
       "      <td>сентябрь</td>\n",
       "      <td>556,41</td>\n",
       "    </tr>\n",
       "    <tr>\n",
       "      <th>126496</th>\n",
       "      <td>Ягоды замороженные, кг</td>\n",
       "      <td>2023</td>\n",
       "      <td>октябрь</td>\n",
       "      <td>559,35</td>\n",
       "    </tr>\n",
       "  </tbody>\n",
       "</table>\n",
       "</div>"
      ],
      "text/plain": [
       "                       product  year     month   value\n",
       "126492  Ягоды замороженные, кг  2023      июнь  559,23\n",
       "126493  Ягоды замороженные, кг  2023      июль  557,83\n",
       "126494  Ягоды замороженные, кг  2023    август  557,83\n",
       "126495  Ягоды замороженные, кг  2023  сентябрь  556,41\n",
       "126496  Ягоды замороженные, кг  2023   октябрь  559,35"
      ]
     },
     "execution_count": 11,
     "metadata": {},
     "output_type": "execute_result"
    }
   ],
   "source": [
    "df.tail(5)"
   ]
  },
  {
   "cell_type": "markdown",
   "id": "40d15673",
   "metadata": {},
   "source": [
    "*Посмотрим на пропуски*"
   ]
  },
  {
   "cell_type": "code",
   "execution_count": 10,
   "id": "499a380d",
   "metadata": {},
   "outputs": [
    {
     "data": {
      "text/plain": [
       "product    0\n",
       "year       0\n",
       "month      0\n",
       "value      0\n",
       "dtype: int64"
      ]
     },
     "execution_count": 10,
     "metadata": {},
     "output_type": "execute_result"
    }
   ],
   "source": [
    "df.isna().sum()"
   ]
  },
  {
   "cell_type": "markdown",
   "id": "c8934b0e",
   "metadata": {},
   "source": [
    "*Определим первичный ключ*"
   ]
  },
  {
   "cell_type": "code",
   "execution_count": null,
   "id": "61cc7fb2",
   "metadata": {},
   "outputs": [],
   "source": []
  },
  {
   "cell_type": "markdown",
   "id": "bdd453d6",
   "metadata": {},
   "source": [
    "*Загрузим данные*"
   ]
  },
  {
   "cell_type": "code",
   "execution_count": null,
   "id": "f50d463c",
   "metadata": {},
   "outputs": [],
   "source": [
    "?df.to_sql"
   ]
  },
  {
   "cell_type": "code",
   "execution_count": null,
   "id": "8a484160",
   "metadata": {},
   "outputs": [],
   "source": [
    "df.to_sql(name='goods'\n",
    "         ,con=engine_demo\n",
    "         ,schema='public'\n",
    "         ,if_exists='replace'\n",
    "         ,index=True)"
   ]
  },
  {
   "cell_type": "code",
   "execution_count": null,
   "id": "29357dbf",
   "metadata": {},
   "outputs": [],
   "source": [
    "df.shape[0]"
   ]
  },
  {
   "cell_type": "markdown",
   "id": "499e2c40",
   "metadata": {},
   "source": [
    "На основе загруженных данных создадим представление:\n",
    "- Наименование товара\n",
    "- Текущая стоимость товара (последняя из имеющихся данных)\n",
    "- Минимальная стоимость товара\n",
    "- Среднегодовая стоимость товара\n",
    "- Среднемесячная стоимость товара\n",
    "- Макисмальная стоимость товара"
   ]
  }
 ],
 "metadata": {
  "kernelspec": {
   "display_name": "Python 3 (ipykernel)",
   "language": "python",
   "name": "python3"
  },
  "language_info": {
   "codemirror_mode": {
    "name": "ipython",
    "version": 3
   },
   "file_extension": ".py",
   "mimetype": "text/x-python",
   "name": "python",
   "nbconvert_exporter": "python",
   "pygments_lexer": "ipython3",
   "version": "3.9.13"
  }
 },
 "nbformat": 4,
 "nbformat_minor": 5
}
