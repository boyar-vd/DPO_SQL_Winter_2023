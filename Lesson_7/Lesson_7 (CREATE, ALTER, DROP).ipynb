{
 "cells": [
  {
   "cell_type": "markdown",
   "id": "86a4dbd8",
   "metadata": {},
   "source": [
    "*Импортируем библиотеки*"
   ]
  },
  {
   "cell_type": "code",
   "execution_count": 1,
   "id": "26888741",
   "metadata": {},
   "outputs": [],
   "source": [
    "from sqlalchemy import create_engine\n",
    "\n",
    "import pandas as pd\n",
    "pd.set_option('display.max_columns', None)\n",
    "\n",
    "import warnings\n",
    "warnings.filterwarnings('ignore')"
   ]
  },
  {
   "cell_type": "markdown",
   "id": "ac029cc9",
   "metadata": {},
   "source": [
    "*Создаём подключение к БД*"
   ]
  },
  {
   "cell_type": "code",
   "execution_count": 2,
   "id": "4258c1d0",
   "metadata": {},
   "outputs": [],
   "source": [
    "def connection_yandex_cloud_demo(echo):\n",
    "    \"\"\"Connection to DataBase dwh\"\"\"\n",
    "    login = 'student'\n",
    "    password = 'student!'\n",
    "    host = 'rc1b-7ng6ih3jte3824x8.mdb.yandexcloud.net'\n",
    "    port = '6432'\n",
    "    db_name = 'demo'\n",
    "    return create_engine(f'postgresql://{login}:{password}@{host}:{port}/{db_name}', echo=echo)\n",
    "\n",
    "engine_demo = connection_yandex_cloud_demo(echo=True)"
   ]
  },
  {
   "cell_type": "markdown",
   "id": "2034f50e",
   "metadata": {},
   "source": [
    "*Распаковываем и загружаем данные*"
   ]
  },
  {
   "cell_type": "code",
   "execution_count": null,
   "id": "cd1c421b",
   "metadata": {},
   "outputs": [],
   "source": [
    "# import zipfile\n",
    "# with zipfile.ZipFile('data/fraud.csv.zip', 'r') as archive:\n",
    "#     archive.extractall('data/')"
   ]
  },
  {
   "cell_type": "code",
   "execution_count": 4,
   "id": "5dda9691",
   "metadata": {},
   "outputs": [
    {
     "name": "stdout",
     "output_type": "stream",
     "text": [
      "HW_7.docx\r\n",
      "HW_7.pdf\r\n",
      "Lesson_7 (CREATE, ALTER, DROP) CREATE).ipynb\r\n",
      "SQL_Lesson_7.pdf\r\n",
      "SQL_Lesson_7.pptx\r\n",
      "\u001b[34mdata\u001b[m\u001b[m\r\n",
      "~$SQL_Lesson_7.pptx\r\n"
     ]
    }
   ],
   "source": [
    "!ls"
   ]
  },
  {
   "cell_type": "code",
   "execution_count": 3,
   "id": "dc190211",
   "metadata": {},
   "outputs": [],
   "source": [
    "df = pd.read_csv('data/da_data_n1-2.csv', sep=';')"
   ]
  },
  {
   "cell_type": "markdown",
   "id": "cb36a576",
   "metadata": {},
   "source": [
    "*Посмотрим на датасет*"
   ]
  },
  {
   "cell_type": "code",
   "execution_count": 5,
   "id": "ed547767",
   "metadata": {},
   "outputs": [
    {
     "data": {
      "text/plain": [
       "(126497, 4)"
      ]
     },
     "execution_count": 5,
     "metadata": {},
     "output_type": "execute_result"
    }
   ],
   "source": [
    "df.shape"
   ]
  },
  {
   "cell_type": "code",
   "execution_count": 6,
   "id": "6976062f",
   "metadata": {},
   "outputs": [
    {
     "name": "stdout",
     "output_type": "stream",
     "text": [
      "<class 'pandas.core.frame.DataFrame'>\n",
      "RangeIndex: 126497 entries, 0 to 126496\n",
      "Data columns (total 4 columns):\n",
      " #   Column   Non-Null Count   Dtype \n",
      "---  ------   --------------   ----- \n",
      " 0   product  126497 non-null  object\n",
      " 1   year     126497 non-null  int64 \n",
      " 2   month    126497 non-null  object\n",
      " 3   value    126497 non-null  object\n",
      "dtypes: int64(1), object(3)\n",
      "memory usage: 3.9+ MB\n"
     ]
    }
   ],
   "source": [
    "df.info()"
   ]
  },
  {
   "cell_type": "code",
   "execution_count": 23,
   "id": "f78814fa",
   "metadata": {},
   "outputs": [
    {
     "data": {
      "text/html": [
       "<div>\n",
       "<style scoped>\n",
       "    .dataframe tbody tr th:only-of-type {\n",
       "        vertical-align: middle;\n",
       "    }\n",
       "\n",
       "    .dataframe tbody tr th {\n",
       "        vertical-align: top;\n",
       "    }\n",
       "\n",
       "    .dataframe thead th {\n",
       "        text-align: right;\n",
       "    }\n",
       "</style>\n",
       "<table border=\"1\" class=\"dataframe\">\n",
       "  <thead>\n",
       "    <tr style=\"text-align: right;\">\n",
       "      <th></th>\n",
       "      <th>product</th>\n",
       "      <th>year</th>\n",
       "      <th>month</th>\n",
       "      <th>value</th>\n",
       "    </tr>\n",
       "  </thead>\n",
       "  <tbody>\n",
       "    <tr>\n",
       "      <th>0</th>\n",
       "      <td>Фарш мясной, кг</td>\n",
       "      <td>2003</td>\n",
       "      <td>январь</td>\n",
       "      <td>96,59</td>\n",
       "    </tr>\n",
       "    <tr>\n",
       "      <th>1</th>\n",
       "      <td>Фарш мясной, кг</td>\n",
       "      <td>2003</td>\n",
       "      <td>февраль</td>\n",
       "      <td>96,72</td>\n",
       "    </tr>\n",
       "    <tr>\n",
       "      <th>2</th>\n",
       "      <td>Фарш мясной, кг</td>\n",
       "      <td>2003</td>\n",
       "      <td>март</td>\n",
       "      <td>97,02</td>\n",
       "    </tr>\n",
       "    <tr>\n",
       "      <th>3</th>\n",
       "      <td>Фарш мясной, кг</td>\n",
       "      <td>2003</td>\n",
       "      <td>апрель</td>\n",
       "      <td>97,09</td>\n",
       "    </tr>\n",
       "    <tr>\n",
       "      <th>4</th>\n",
       "      <td>Фарш мясной, кг</td>\n",
       "      <td>2003</td>\n",
       "      <td>май</td>\n",
       "      <td>97,36</td>\n",
       "    </tr>\n",
       "  </tbody>\n",
       "</table>\n",
       "</div>"
      ],
      "text/plain": [
       "           product  year    month  value\n",
       "0  Фарш мясной, кг  2003   январь  96,59\n",
       "1  Фарш мясной, кг  2003  февраль  96,72\n",
       "2  Фарш мясной, кг  2003     март  97,02\n",
       "3  Фарш мясной, кг  2003   апрель  97,09\n",
       "4  Фарш мясной, кг  2003      май  97,36"
      ]
     },
     "execution_count": 23,
     "metadata": {},
     "output_type": "execute_result"
    }
   ],
   "source": [
    "df.head(5)"
   ]
  },
  {
   "cell_type": "code",
   "execution_count": 19,
   "id": "5bc5783a",
   "metadata": {},
   "outputs": [],
   "source": [
    "# df"
   ]
  },
  {
   "cell_type": "markdown",
   "id": "40d15673",
   "metadata": {},
   "source": [
    "*Посмотрим на пропуски*"
   ]
  },
  {
   "cell_type": "code",
   "execution_count": 10,
   "id": "499a380d",
   "metadata": {},
   "outputs": [
    {
     "data": {
      "text/plain": [
       "product    0\n",
       "year       0\n",
       "month      0\n",
       "value      0\n",
       "dtype: int64"
      ]
     },
     "execution_count": 10,
     "metadata": {},
     "output_type": "execute_result"
    }
   ],
   "source": [
    "df.isna().sum()"
   ]
  },
  {
   "cell_type": "markdown",
   "id": "c8934b0e",
   "metadata": {},
   "source": [
    "*Определим первичный ключ*"
   ]
  },
  {
   "cell_type": "code",
   "execution_count": 15,
   "id": "61cc7fb2",
   "metadata": {},
   "outputs": [],
   "source": [
    "temp_df = df.groupby(['product', 'year', 'month']).count()"
   ]
  },
  {
   "cell_type": "code",
   "execution_count": 17,
   "id": "d05308d0",
   "metadata": {},
   "outputs": [
    {
     "data": {
      "text/html": [
       "<div>\n",
       "<style scoped>\n",
       "    .dataframe tbody tr th:only-of-type {\n",
       "        vertical-align: middle;\n",
       "    }\n",
       "\n",
       "    .dataframe tbody tr th {\n",
       "        vertical-align: top;\n",
       "    }\n",
       "\n",
       "    .dataframe thead th {\n",
       "        text-align: right;\n",
       "    }\n",
       "</style>\n",
       "<table border=\"1\" class=\"dataframe\">\n",
       "  <thead>\n",
       "    <tr style=\"text-align: right;\">\n",
       "      <th></th>\n",
       "      <th></th>\n",
       "      <th></th>\n",
       "      <th>value</th>\n",
       "    </tr>\n",
       "    <tr>\n",
       "      <th>product</th>\n",
       "      <th>year</th>\n",
       "      <th>month</th>\n",
       "      <th></th>\n",
       "    </tr>\n",
       "  </thead>\n",
       "  <tbody>\n",
       "  </tbody>\n",
       "</table>\n",
       "</div>"
      ],
      "text/plain": [
       "Empty DataFrame\n",
       "Columns: [value]\n",
       "Index: []"
      ]
     },
     "execution_count": 17,
     "metadata": {},
     "output_type": "execute_result"
    }
   ],
   "source": [
    "temp_df[temp_df.value > 1]"
   ]
  },
  {
   "cell_type": "markdown",
   "id": "bdd453d6",
   "metadata": {},
   "source": [
    "*Загрузим данные*"
   ]
  },
  {
   "cell_type": "code",
   "execution_count": 20,
   "id": "f50d463c",
   "metadata": {},
   "outputs": [],
   "source": [
    "?df.to_sql"
   ]
  },
  {
   "cell_type": "code",
   "execution_count": 22,
   "id": "8a484160",
   "metadata": {},
   "outputs": [
    {
     "name": "stdout",
     "output_type": "stream",
     "text": [
      "2024-01-30 21:17:51,774 INFO sqlalchemy.engine.Engine select relname from pg_class c join pg_namespace n on n.oid=c.relnamespace where n.nspname=%(schema)s and relname=%(name)s\n",
      "2024-01-30 21:17:51,775 INFO sqlalchemy.engine.Engine [cached since 113.1s ago] {'schema': 'public', 'name': 'goods'}\n",
      "2024-01-30 21:17:51,842 INFO sqlalchemy.engine.Engine select relname from pg_class c join pg_namespace n on n.oid=c.relnamespace where n.nspname=%(schema)s and relname=%(name)s\n",
      "2024-01-30 21:17:51,843 INFO sqlalchemy.engine.Engine [cached since 113.1s ago] {'schema': 'public', 'name': 'goods'}\n",
      "2024-01-30 21:17:51,896 INFO sqlalchemy.engine.Engine SELECT c.relname FROM pg_class c JOIN pg_namespace n ON n.oid = c.relnamespace WHERE n.nspname = %(schema)s AND c.relkind in ('r', 'p')\n",
      "2024-01-30 21:17:51,897 INFO sqlalchemy.engine.Engine [cached since 113.1s ago] {'schema': 'public'}\n",
      "2024-01-30 21:17:51,930 INFO sqlalchemy.engine.Engine \n",
      "            SELECT c.oid\n",
      "            FROM pg_catalog.pg_class c\n",
      "            LEFT JOIN pg_catalog.pg_namespace n ON n.oid = c.relnamespace\n",
      "            WHERE (n.nspname = %(schema)s)\n",
      "            AND c.relname = %(table_name)s AND c.relkind in\n",
      "            ('r', 'v', 'm', 'f', 'p')\n",
      "        \n",
      "2024-01-30 21:17:51,931 INFO sqlalchemy.engine.Engine [cached since 113.1s ago] {'schema': 'public', 'table_name': 'goods'}\n",
      "2024-01-30 21:17:51,946 INFO sqlalchemy.engine.Engine \n",
      "            SELECT a.attname,\n",
      "              pg_catalog.format_type(a.atttypid, a.atttypmod),\n",
      "              (\n",
      "                SELECT pg_catalog.pg_get_expr(d.adbin, d.adrelid)\n",
      "                FROM pg_catalog.pg_attrdef d\n",
      "                WHERE d.adrelid = a.attrelid AND d.adnum = a.attnum\n",
      "                AND a.atthasdef\n",
      "              ) AS DEFAULT,\n",
      "              a.attnotnull,\n",
      "              a.attrelid as table_oid,\n",
      "              pgd.description as comment,\n",
      "              a.attgenerated as generated,\n",
      "                              (SELECT json_build_object(\n",
      "                    'always', a.attidentity = 'a',\n",
      "                    'start', s.seqstart,\n",
      "                    'increment', s.seqincrement,\n",
      "                    'minvalue', s.seqmin,\n",
      "                    'maxvalue', s.seqmax,\n",
      "                    'cache', s.seqcache,\n",
      "                    'cycle', s.seqcycle)\n",
      "                FROM pg_catalog.pg_sequence s\n",
      "                JOIN pg_catalog.pg_class c on s.seqrelid = c.\"oid\"\n",
      "                WHERE c.relkind = 'S'\n",
      "                AND a.attidentity != ''\n",
      "                AND s.seqrelid = pg_catalog.pg_get_serial_sequence(\n",
      "                    a.attrelid::regclass::text, a.attname\n",
      "                )::regclass::oid\n",
      "                ) as identity_options                \n",
      "            FROM pg_catalog.pg_attribute a\n",
      "            LEFT JOIN pg_catalog.pg_description pgd ON (\n",
      "                pgd.objoid = a.attrelid AND pgd.objsubid = a.attnum)\n",
      "            WHERE a.attrelid = %(table_oid)s\n",
      "            AND a.attnum > 0 AND NOT a.attisdropped\n",
      "            ORDER BY a.attnum\n",
      "        \n",
      "2024-01-30 21:17:51,948 INFO sqlalchemy.engine.Engine [cached since 113.1s ago] {'table_oid': 27022}\n",
      "2024-01-30 21:17:51,966 INFO sqlalchemy.engine.Engine \n",
      "            SELECT t.typname as \"name\",\n",
      "               pg_catalog.format_type(t.typbasetype, t.typtypmod) as \"attype\",\n",
      "               not t.typnotnull as \"nullable\",\n",
      "               t.typdefault as \"default\",\n",
      "               pg_catalog.pg_type_is_visible(t.oid) as \"visible\",\n",
      "               n.nspname as \"schema\"\n",
      "            FROM pg_catalog.pg_type t\n",
      "               LEFT JOIN pg_catalog.pg_namespace n ON n.oid = t.typnamespace\n",
      "            WHERE t.typtype = 'd'\n",
      "        \n",
      "2024-01-30 21:17:51,967 INFO sqlalchemy.engine.Engine [cached since 113.1s ago] {}\n",
      "2024-01-30 21:17:51,982 INFO sqlalchemy.engine.Engine \n",
      "            SELECT t.typname as \"name\",\n",
      "               -- no enum defaults in 8.4 at least\n",
      "               -- t.typdefault as \"default\",\n",
      "               pg_catalog.pg_type_is_visible(t.oid) as \"visible\",\n",
      "               n.nspname as \"schema\",\n",
      "               e.enumlabel as \"label\"\n",
      "            FROM pg_catalog.pg_type t\n",
      "                 LEFT JOIN pg_catalog.pg_namespace n ON n.oid = t.typnamespace\n",
      "                 LEFT JOIN pg_catalog.pg_enum e ON t.oid = e.enumtypid\n",
      "            WHERE t.typtype = 'e'\n",
      "        ORDER BY \"schema\", \"name\", e.oid\n",
      "2024-01-30 21:17:51,983 INFO sqlalchemy.engine.Engine [cached since 113.1s ago] {}\n",
      "2024-01-30 21:17:52,006 INFO sqlalchemy.engine.Engine \n",
      "                SELECT a.attname\n",
      "                FROM pg_attribute a JOIN (\n",
      "                    SELECT unnest(ix.indkey) attnum,\n",
      "                           generate_subscripts(ix.indkey, 1) ord\n",
      "                    FROM pg_index ix\n",
      "                    WHERE ix.indrelid = %(table_oid)s AND ix.indisprimary\n",
      "                    ) k ON a.attnum=k.attnum\n",
      "                WHERE a.attrelid = %(table_oid)s\n",
      "                ORDER BY k.ord\n",
      "            \n",
      "2024-01-30 21:17:52,007 INFO sqlalchemy.engine.Engine [cached since 113.1s ago] {'table_oid': 27022}\n",
      "2024-01-30 21:17:52,027 INFO sqlalchemy.engine.Engine \n",
      "        SELECT conname\n",
      "           FROM  pg_catalog.pg_constraint r\n",
      "           WHERE r.conrelid = %(table_oid)s AND r.contype = 'p'\n",
      "           ORDER BY 1\n",
      "        \n",
      "2024-01-30 21:17:52,028 INFO sqlalchemy.engine.Engine [cached since 113.1s ago] {'table_oid': 27022}\n",
      "2024-01-30 21:17:52,042 INFO sqlalchemy.engine.Engine \n",
      "          SELECT r.conname,\n",
      "                pg_catalog.pg_get_constraintdef(r.oid, true) as condef,\n",
      "                n.nspname as conschema\n",
      "          FROM  pg_catalog.pg_constraint r,\n",
      "                pg_namespace n,\n",
      "                pg_class c\n",
      "\n",
      "          WHERE r.conrelid = %(table)s AND\n",
      "                r.contype = 'f' AND\n",
      "                c.oid = confrelid AND\n",
      "                n.oid = c.relnamespace\n",
      "          ORDER BY 1\n",
      "        \n",
      "2024-01-30 21:17:52,043 INFO sqlalchemy.engine.Engine [cached since 113.1s ago] {'table': 27022}\n",
      "2024-01-30 21:17:52,062 INFO sqlalchemy.engine.Engine \n",
      "              SELECT\n",
      "                  i.relname as relname,\n",
      "                  ix.indisunique, ix.indexprs,\n",
      "                  a.attname, a.attnum, c.conrelid, ix.indkey::varchar,\n",
      "                  ix.indoption::varchar, i.reloptions, am.amname,\n",
      "                  pg_get_expr(ix.indpred, ix.indrelid),\n",
      "                  ix.indnkeyatts as indnkeyatts\n",
      "              FROM\n",
      "                  pg_class t\n",
      "                        join pg_index ix on t.oid = ix.indrelid\n",
      "                        join pg_class i on i.oid = ix.indexrelid\n",
      "                        left outer join\n",
      "                            pg_attribute a\n",
      "                            on t.oid = a.attrelid and a.attnum = ANY(ix.indkey)\n",
      "                        left outer join\n",
      "                            pg_constraint c\n",
      "                            on (ix.indrelid = c.conrelid and\n",
      "                                ix.indexrelid = c.conindid and\n",
      "                                c.contype in ('p', 'u', 'x'))\n",
      "                        left outer join\n",
      "                            pg_am am\n",
      "                            on i.relam = am.oid\n",
      "              WHERE\n",
      "                  t.relkind IN ('r', 'v', 'f', 'm', 'p')\n",
      "                  and t.oid = %(table_oid)s\n",
      "                  and ix.indisprimary = 'f'\n",
      "              ORDER BY\n",
      "                  t.relname,\n",
      "                  i.relname\n",
      "            \n",
      "2024-01-30 21:17:52,063 INFO sqlalchemy.engine.Engine [cached since 113.1s ago] {'table_oid': 27022}\n",
      "2024-01-30 21:17:52,089 INFO sqlalchemy.engine.Engine \n",
      "            SELECT\n",
      "                cons.conname as name,\n",
      "                cons.conkey as key,\n",
      "                a.attnum as col_num,\n",
      "                a.attname as col_name\n",
      "            FROM\n",
      "                pg_catalog.pg_constraint cons\n",
      "                join pg_attribute a\n",
      "                  on cons.conrelid = a.attrelid AND\n",
      "                    a.attnum = ANY(cons.conkey)\n",
      "            WHERE\n",
      "                cons.conrelid = %(table_oid)s AND\n",
      "                cons.contype = 'u'\n",
      "        \n",
      "2024-01-30 21:17:52,092 INFO sqlalchemy.engine.Engine [cached since 113.1s ago] {'table_oid': 27022}\n",
      "2024-01-30 21:17:52,107 INFO sqlalchemy.engine.Engine \n",
      "            SELECT\n",
      "                cons.conname as name,\n",
      "                pg_get_constraintdef(cons.oid) as src\n",
      "            FROM\n",
      "                pg_catalog.pg_constraint cons\n",
      "            WHERE\n",
      "                cons.conrelid = %(table_oid)s AND\n",
      "                cons.contype = 'c'\n",
      "        \n"
     ]
    },
    {
     "name": "stdout",
     "output_type": "stream",
     "text": [
      "2024-01-30 21:17:52,108 INFO sqlalchemy.engine.Engine [cached since 113.1s ago] {'table_oid': 27022}\n",
      "2024-01-30 21:17:52,122 INFO sqlalchemy.engine.Engine \n",
      "            SELECT\n",
      "                pgd.description as table_comment\n",
      "            FROM\n",
      "                pg_catalog.pg_description pgd\n",
      "            WHERE\n",
      "                pgd.objsubid = 0 AND\n",
      "                pgd.objoid = %(table_oid)s\n",
      "        \n",
      "2024-01-30 21:17:52,123 INFO sqlalchemy.engine.Engine [cached since 113.1s ago] {'table_oid': 27022}\n",
      "2024-01-30 21:17:52,162 INFO sqlalchemy.engine.Engine BEGIN (implicit)\n",
      "2024-01-30 21:17:52,164 INFO sqlalchemy.engine.Engine \n",
      "DROP TABLE public.goods\n",
      "2024-01-30 21:17:52,165 INFO sqlalchemy.engine.Engine [no key 0.00149s] {}\n",
      "2024-01-30 21:17:52,203 INFO sqlalchemy.engine.Engine COMMIT\n",
      "2024-01-30 21:17:52,231 INFO sqlalchemy.engine.Engine BEGIN (implicit)\n",
      "2024-01-30 21:17:52,234 INFO sqlalchemy.engine.Engine \n",
      "CREATE TABLE public.goods (\n",
      "\tindex BIGINT, \n",
      "\tproduct TEXT, \n",
      "\tyear BIGINT, \n",
      "\tmonth TEXT, \n",
      "\tvalue TEXT\n",
      ")\n",
      "\n",
      "\n",
      "2024-01-30 21:17:52,236 INFO sqlalchemy.engine.Engine [no key 0.00138s] {}\n",
      "2024-01-30 21:17:52,276 INFO sqlalchemy.engine.Engine CREATE INDEX ix_public_goods_index ON public.goods (index)\n",
      "2024-01-30 21:17:52,278 INFO sqlalchemy.engine.Engine [no key 0.00222s] {}\n",
      "2024-01-30 21:17:52,305 INFO sqlalchemy.engine.Engine COMMIT\n",
      "2024-01-30 21:17:52,372 INFO sqlalchemy.engine.Engine BEGIN (implicit)\n",
      "2024-01-30 21:17:52,831 INFO sqlalchemy.engine.Engine INSERT INTO public.goods (index, product, year, month, value) VALUES (%(index)s, %(product)s, %(year)s, %(month)s, %(value)s)\n",
      "2024-01-30 21:17:52,832 INFO sqlalchemy.engine.Engine [generated in 0.38704s] ({'index': 0, 'product': 'Фарш мясной, кг', 'year': 2003, 'month': 'январь', 'value': '96,59'}, {'index': 1, 'product': 'Фарш мясной, кг', 'year': 2003, 'month': 'февраль', 'value': '96,72'}, {'index': 2, 'product': 'Фарш мясной, кг', 'year': 2003, 'month': 'март', 'value': '97,02'}, {'index': 3, 'product': 'Фарш мясной, кг', 'year': 2003, 'month': 'апрель', 'value': '97,09'}, {'index': 4, 'product': 'Фарш мясной, кг', 'year': 2003, 'month': 'май', 'value': '97,36'}, {'index': 5, 'product': 'Фарш мясной, кг', 'year': 2003, 'month': 'июнь', 'value': '97,93'}, {'index': 6, 'product': 'Фарш мясной, кг', 'year': 2003, 'month': 'июль', 'value': '98,02'}, {'index': 7, 'product': 'Фарш мясной, кг', 'year': 2003, 'month': 'август', 'value': '98,44'}  ... displaying 10 of 126497 total bound parameter sets ...  {'index': 126495, 'product': 'Ягоды замороженные, кг', 'year': 2023, 'month': 'сентябрь', 'value': '556,41'}, {'index': 126496, 'product': 'Ягоды замороженные, кг', 'year': 2023, 'month': 'октябрь', 'value': '559,35'})\n",
      "2024-01-30 21:18:01,557 INFO sqlalchemy.engine.Engine COMMIT\n",
      "CPU times: user 2.91 s, sys: 150 ms, total: 3.06 s\n",
      "Wall time: 9.87 s\n"
     ]
    },
    {
     "data": {
      "text/plain": [
       "497"
      ]
     },
     "execution_count": 22,
     "metadata": {},
     "output_type": "execute_result"
    }
   ],
   "source": [
    "df.to_sql(name='goods'\n",
    "         ,con=engine_demo\n",
    "         ,schema='public'\n",
    "         ,if_exists='replace'\n",
    "         ,index=True)"
   ]
  },
  {
   "cell_type": "code",
   "execution_count": null,
   "id": "29357dbf",
   "metadata": {},
   "outputs": [],
   "source": [
    "df.shape[0]"
   ]
  },
  {
   "cell_type": "code",
   "execution_count": null,
   "id": "1a495d15",
   "metadata": {},
   "outputs": [],
   "source": [
    "engine.execute('ALTER TABLE ... ')"
   ]
  },
  {
   "cell_type": "markdown",
   "id": "499e2c40",
   "metadata": {},
   "source": [
    "На основе загруженных данных создадим представление:\n",
    "- Наименование товара\n",
    "- Текущая стоимость товара (последняя из имеющихся данных)\n",
    "- Минимальная стоимость товара\n",
    "- Среднегодовая стоимость товара\n",
    "- Среднемесячная стоимость товара\n",
    "- Макисмальная стоимость товара"
   ]
  }
 ],
 "metadata": {
  "kernelspec": {
   "display_name": "Python 3 (ipykernel)",
   "language": "python",
   "name": "python3"
  },
  "language_info": {
   "codemirror_mode": {
    "name": "ipython",
    "version": 3
   },
   "file_extension": ".py",
   "mimetype": "text/x-python",
   "name": "python",
   "nbconvert_exporter": "python",
   "pygments_lexer": "ipython3",
   "version": "3.9.13"
  }
 },
 "nbformat": 4,
 "nbformat_minor": 5
}
